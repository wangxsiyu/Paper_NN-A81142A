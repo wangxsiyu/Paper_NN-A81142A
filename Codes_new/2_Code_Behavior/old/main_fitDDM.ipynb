{
 "cells": [
  {
   "cell_type": "code",
   "execution_count": 1,
   "metadata": {},
   "outputs": [
    {
     "name": "stdout",
     "output_type": "stream",
     "text": [
      "{'divide': 'warn', 'over': 'warn', 'under': 'ignore', 'invalid': 'ignore'}\n"
     ]
    }
   ],
   "source": [
    "import numpy as np\n",
    "np.seterr(invalid='ignore')\n",
    "print(np.seterr())\n",
    "# import warnings\n",
    "# warnings.filterwarnings(\"ignore\")"
   ]
  },
  {
   "cell_type": "code",
   "execution_count": 4,
   "metadata": {},
   "outputs": [],
   "source": [
    "from pyddm import Sample\n",
    "import pyddm as ddm\n",
    "from pyddm import Model, Fittable\n",
    "from pyddm.functions import fit_adjust_model, display_model\n",
    "from pyddm.models import DriftConstant, NoiseConstant, BoundConstant, BoundCollapsingLinear, OverlayChain, OverlayNonDecision, OverlayPoissonMixture\n",
    "from pyddm.models.loss import LossRobustLikelihood"
   ]
  },
  {
   "cell_type": "code",
   "execution_count": 3,
   "metadata": {},
   "outputs": [],
   "source": [
    "import pandas\n",
    "df = pandas.read_csv('./data_ddm.csv')"
   ]
  },
  {
   "cell_type": "code",
   "execution_count": 5,
   "metadata": {},
   "outputs": [
    {
     "name": "stdout",
     "output_type": "stream",
     "text": [
      "       condition  rt_reject  choice  session\n",
      "1              9   0.486783       0        1\n",
      "2              2   1.021700       0        1\n",
      "7              9   0.281817       0        1\n",
      "11             6   0.476767       0        1\n",
      "13             2   1.496633       0        1\n",
      "...          ...        ...     ...      ...\n",
      "12864          6   0.399767       0       16\n",
      "12866          8   0.499733       0       16\n",
      "12867          2   0.340767       0       16\n",
      "12868          3   0.423767       0       16\n",
      "12870          6   0.585717       0       16\n",
      "\n",
      "[5898 rows x 4 columns]\n"
     ]
    }
   ],
   "source": [
    "tid = df['choice'] == 0\n",
    "df_rj = df[tid]\n",
    "print(df_rj)"
   ]
  },
  {
   "cell_type": "code",
   "execution_count": 9,
   "metadata": {},
   "outputs": [
    {
     "name": "stdout",
     "output_type": "stream",
     "text": [
      "condition skipped: less than 50% reject0\n",
      "fitting: sub 0, cond 1\n"
     ]
    },
    {
     "name": "stderr",
     "output_type": "stream",
     "text": [
      "Info: Params [-3.18417344  1.37772361  0.18300096] gave -18.008800842673807\n"
     ]
    },
    {
     "name": "stdout",
     "output_type": "stream",
     "text": [
      "fitting: sub 0, cond 2\n"
     ]
    },
    {
     "name": "stderr",
     "output_type": "stream",
     "text": [
      "Info: Params [-3.28990178  1.28238282  0.1661049 ] gave -26.15887135887587\n"
     ]
    },
    {
     "name": "stdout",
     "output_type": "stream",
     "text": [
      "condition skipped: less than 50% reject3\n",
      "condition skipped: less than 50% reject4\n",
      "fitting: sub 0, cond 5\n"
     ]
    },
    {
     "name": "stderr",
     "output_type": "stream",
     "text": [
      "Info: Params [-4.63876097e+00  2.59235957e+00  1.79219663e-03] gave -27.726153977397928\n"
     ]
    },
    {
     "name": "stdout",
     "output_type": "stream",
     "text": [
      "condition skipped: less than 50% reject6\n",
      "condition skipped: less than 50% reject7\n",
      "condition skipped: less than 50% reject8\n",
      "condition skipped: less than 50% reject0\n",
      "fitting: sub 1, cond 1\n"
     ]
    },
    {
     "name": "stderr",
     "output_type": "stream",
     "text": [
      "Info: Params [-3.20363904  0.67814812  0.30043521] gave -61.27843817240907\n"
     ]
    },
    {
     "name": "stdout",
     "output_type": "stream",
     "text": [
      "fitting: sub 1, cond 2\n"
     ]
    },
    {
     "name": "stderr",
     "output_type": "stream",
     "text": [
      "Info: Params [-4.42765061  0.63962588  0.29754765] gave -98.30388571300578\n"
     ]
    },
    {
     "name": "stdout",
     "output_type": "stream",
     "text": [
      "condition skipped: less than 50% reject3\n",
      "condition skipped: less than 50% reject4\n",
      "fitting: sub 1, cond 5\n"
     ]
    },
    {
     "name": "stderr",
     "output_type": "stream",
     "text": [
      "Info: Params [-3.50510577  0.64926544  0.31979189] gave -65.28778935942834\n"
     ]
    },
    {
     "name": "stdout",
     "output_type": "stream",
     "text": [
      "condition skipped: less than 50% reject6\n",
      "condition skipped: less than 50% reject7\n",
      "condition skipped: less than 50% reject8\n",
      "condition skipped: less than 50% reject0\n",
      "fitting: sub 2, cond 1\n"
     ]
    },
    {
     "name": "stderr",
     "output_type": "stream",
     "text": [
      "Info: Params [-3.48334262  0.84619286  0.25817741] gave -72.98797195039666\n"
     ]
    },
    {
     "name": "stdout",
     "output_type": "stream",
     "text": [
      "fitting: sub 2, cond 2\n"
     ]
    },
    {
     "name": "stderr",
     "output_type": "stream",
     "text": [
      "Info: Params [-3.59242891  0.60200355  0.30179837] gave -96.05942886183614\n"
     ]
    },
    {
     "name": "stdout",
     "output_type": "stream",
     "text": [
      "condition skipped: less than 50% reject3\n",
      "condition skipped: less than 50% reject4\n",
      "fitting: sub 2, cond 5\n"
     ]
    },
    {
     "name": "stderr",
     "output_type": "stream",
     "text": [
      "Info: Params [-3.54587598  0.5984566   0.3354238 ] gave -93.9644241004695\n"
     ]
    },
    {
     "name": "stdout",
     "output_type": "stream",
     "text": [
      "condition skipped: less than 50% reject6\n",
      "condition skipped: less than 50% reject7\n",
      "condition skipped: less than 50% reject8\n",
      "condition skipped: less than 50% reject0\n",
      "fitting: sub 3, cond 1\n"
     ]
    },
    {
     "name": "stderr",
     "output_type": "stream",
     "text": [
      "Info: Params [-4.60694858  0.69980245  0.28453332] gave -105.38874527986658\n"
     ]
    },
    {
     "name": "stdout",
     "output_type": "stream",
     "text": [
      "fitting: sub 3, cond 2\n"
     ]
    },
    {
     "name": "stderr",
     "output_type": "stream",
     "text": [
      "Info: Params [-5.46177599  0.90719451  0.24729   ] gave -110.38004114565783\n"
     ]
    },
    {
     "name": "stdout",
     "output_type": "stream",
     "text": [
      "condition skipped: less than 50% reject3\n",
      "condition skipped: less than 50% reject4\n",
      "fitting: sub 3, cond 5\n"
     ]
    },
    {
     "name": "stderr",
     "output_type": "stream",
     "text": [
      "Info: Params [-4.32567865  1.78678106  0.05567206] gave -47.00376481991045\n"
     ]
    },
    {
     "name": "stdout",
     "output_type": "stream",
     "text": [
      "condition skipped: less than 50% reject6\n",
      "condition skipped: less than 50% reject7\n",
      "condition skipped: less than 50% reject8\n",
      "condition skipped: less than 50% reject0\n",
      "fitting: sub 4, cond 1\n"
     ]
    },
    {
     "name": "stderr",
     "output_type": "stream",
     "text": [
      "Info: Params [-4.35867831  1.46494782  0.1298759 ] gave -55.50000374699455\n"
     ]
    },
    {
     "name": "stdout",
     "output_type": "stream",
     "text": [
      "fitting: sub 4, cond 2\n"
     ]
    },
    {
     "name": "stderr",
     "output_type": "stream",
     "text": [
      "Info: Params [-4.3888583   0.62370628  0.27028173] gave -101.44504546996109\n"
     ]
    },
    {
     "name": "stdout",
     "output_type": "stream",
     "text": [
      "condition skipped: less than 50% reject3\n",
      "condition skipped: less than 50% reject4\n",
      "fitting: sub 4, cond 5\n"
     ]
    },
    {
     "name": "stderr",
     "output_type": "stream",
     "text": [
      "Info: Params [-3.11385512  0.82040054  0.23901902] gave -48.30334090383537\n"
     ]
    },
    {
     "name": "stdout",
     "output_type": "stream",
     "text": [
      "condition skipped: less than 50% reject6\n",
      "condition skipped: less than 50% reject7\n",
      "condition skipped: less than 50% reject8\n",
      "condition skipped: less than 50% reject0\n",
      "fitting: sub 5, cond 1\n"
     ]
    },
    {
     "name": "stderr",
     "output_type": "stream",
     "text": [
      "Info: Params [-5.12068450e+00  2.13537953e+00  2.79823596e-05] gave -74.41857165997007\n"
     ]
    },
    {
     "name": "stdout",
     "output_type": "stream",
     "text": [
      "fitting: sub 5, cond 2\n"
     ]
    },
    {
     "name": "stderr",
     "output_type": "stream",
     "text": [
      "Info: Params [-9.95823447  2.78892275  0.10159232] gave -171.92539518575404\n"
     ]
    },
    {
     "name": "stdout",
     "output_type": "stream",
     "text": [
      "condition skipped: less than 50% reject3\n",
      "condition skipped: less than 50% reject4\n",
      "fitting: sub 5, cond 5\n"
     ]
    },
    {
     "name": "stderr",
     "output_type": "stream",
     "text": [
      "Info: Params [-7.47417539e+00  3.01788805e+00  5.72574112e-03] gave -65.1177415134216\n"
     ]
    },
    {
     "name": "stdout",
     "output_type": "stream",
     "text": [
      "condition skipped: less than 50% reject6\n",
      "condition skipped: less than 50% reject7\n",
      "condition skipped: less than 50% reject8\n",
      "condition skipped: less than 50% reject0\n",
      "fitting: sub 6, cond 1\n"
     ]
    },
    {
     "name": "stderr",
     "output_type": "stream",
     "text": [
      "Info: Params [-6.73347263e+00  2.62345481e+00  7.37088000e-04] gave -68.34012550578971\n"
     ]
    },
    {
     "name": "stdout",
     "output_type": "stream",
     "text": [
      "fitting: sub 6, cond 2\n"
     ]
    },
    {
     "name": "stderr",
     "output_type": "stream",
     "text": [
      "Info: Params [-5.86162758e+00  2.01993715e+00  7.20460941e-04] gave -108.00667458161789\n"
     ]
    },
    {
     "name": "stdout",
     "output_type": "stream",
     "text": [
      "condition skipped: less than 50% reject3\n",
      "fitting: sub 6, cond 4\n"
     ]
    },
    {
     "name": "stderr",
     "output_type": "stream",
     "text": [
      "Info: Params [-2.13031018e+00  1.06320530e+00  2.65950535e-04] gave 9.466539226283604\n"
     ]
    },
    {
     "name": "stdout",
     "output_type": "stream",
     "text": [
      "fitting: sub 6, cond 5\n"
     ]
    },
    {
     "name": "stderr",
     "output_type": "stream",
     "text": [
      "Info: Params [-3.94424975e+00  1.51895137e+00  5.92451221e-04] gave -56.35384659205355\n"
     ]
    },
    {
     "name": "stdout",
     "output_type": "stream",
     "text": [
      "condition skipped: less than 50% reject6\n",
      "condition skipped: less than 50% reject7\n",
      "fitting: sub 6, cond 8\n"
     ]
    },
    {
     "name": "stderr",
     "output_type": "stream",
     "text": [
      "Info: Params [-3.00048946  1.38385035  0.07560163] gave -16.73596117633551\n"
     ]
    },
    {
     "name": "stdout",
     "output_type": "stream",
     "text": [
      "condition skipped: less than 50% reject0\n",
      "fitting: sub 7, cond 1\n"
     ]
    },
    {
     "name": "stderr",
     "output_type": "stream",
     "text": [
      "Info: Params [-4.91078096e+00  1.80357425e+00  1.51852293e-04] gave -94.0808442629757\n"
     ]
    },
    {
     "name": "stdout",
     "output_type": "stream",
     "text": [
      "fitting: sub 7, cond 2\n"
     ]
    },
    {
     "name": "stderr",
     "output_type": "stream",
     "text": [
      "Info: Params [-5.06208393e+00  1.62747135e+00  6.27945186e-04] gave -106.87461974952622\n"
     ]
    },
    {
     "name": "stdout",
     "output_type": "stream",
     "text": [
      "condition skipped: less than 50% reject3\n",
      "fitting: sub 7, cond 4\n"
     ]
    },
    {
     "name": "stderr",
     "output_type": "stream",
     "text": [
      "Info: Params [-2.48041789e+00  1.31176171e+00  8.39536740e-04] gave 3.344163315283678\n"
     ]
    },
    {
     "name": "stdout",
     "output_type": "stream",
     "text": [
      "fitting: sub 7, cond 5\n"
     ]
    },
    {
     "name": "stderr",
     "output_type": "stream",
     "text": [
      "Info: Params [-5.61273821e+00  2.00468395e+00  8.39988660e-04] gave -110.1429609812679\n"
     ]
    },
    {
     "name": "stdout",
     "output_type": "stream",
     "text": [
      "condition skipped: less than 50% reject6\n",
      "condition skipped: less than 50% reject7\n",
      "fitting: sub 7, cond 8\n"
     ]
    },
    {
     "name": "stderr",
     "output_type": "stream",
     "text": [
      "Info: Params [-3.83009361e+00  1.75709375e+00  6.32326373e-04] gave -41.47817181440105\n"
     ]
    },
    {
     "name": "stdout",
     "output_type": "stream",
     "text": [
      "condition skipped: less than 50% reject0\n",
      "fitting: sub 8, cond 1\n"
     ]
    },
    {
     "name": "stderr",
     "output_type": "stream",
     "text": [
      "Info: Params [-1.65553704e+00  1.59783672e+00  9.07989935e-04] gave 46.90901874208265\n"
     ]
    },
    {
     "name": "stdout",
     "output_type": "stream",
     "text": [
      "fitting: sub 8, cond 2\n"
     ]
    },
    {
     "name": "stderr",
     "output_type": "stream",
     "text": [
      "Info: Params [-2.13644545e+00  1.54340861e+00  7.11215041e-04] gave 24.42319812266154\n"
     ]
    },
    {
     "name": "stdout",
     "output_type": "stream",
     "text": [
      "condition skipped: less than 50% reject3\n",
      "condition skipped: less than 50% reject4\n",
      "fitting: sub 8, cond 5\n"
     ]
    },
    {
     "name": "stderr",
     "output_type": "stream",
     "text": [
      "Info: Params [-1.03705035e+00  1.16424259e+00  5.23416974e-04] gave 74.44427993931299\n"
     ]
    },
    {
     "name": "stdout",
     "output_type": "stream",
     "text": [
      "condition skipped: less than 50% reject6\n",
      "condition skipped: less than 50% reject7\n",
      "fitting: sub 8, cond 8\n"
     ]
    },
    {
     "name": "stderr",
     "output_type": "stream",
     "text": [
      "Info: Params [-9.90592120e-01  1.51793252e+00  4.76627261e-04] gave 67.53136269650486\n"
     ]
    },
    {
     "name": "stdout",
     "output_type": "stream",
     "text": [
      "condition skipped: less than 50% reject0\n",
      "fitting: sub 9, cond 1\n"
     ]
    },
    {
     "name": "stderr",
     "output_type": "stream",
     "text": [
      "Info: Params [-2.30103797e+00  1.40982214e+00  4.97846234e-04] gave 12.401607464722591\n"
     ]
    },
    {
     "name": "stdout",
     "output_type": "stream",
     "text": [
      "fitting: sub 9, cond 2\n"
     ]
    },
    {
     "name": "stderr",
     "output_type": "stream",
     "text": [
      "Info: Params [-3.12048612  0.78129174  0.21739933] gave -57.88873362514491\n"
     ]
    },
    {
     "name": "stdout",
     "output_type": "stream",
     "text": [
      "condition skipped: less than 50% reject3\n",
      "condition skipped: less than 50% reject4\n",
      "fitting: sub 9, cond 5\n"
     ]
    },
    {
     "name": "stderr",
     "output_type": "stream",
     "text": [
      "Info: Params [-1.72534216  1.4999313   0.00495221] gave 38.389375911307084\n"
     ]
    },
    {
     "name": "stdout",
     "output_type": "stream",
     "text": [
      "condition skipped: less than 50% reject6\n",
      "condition skipped: less than 50% reject7\n",
      "fitting: sub 9, cond 8\n"
     ]
    },
    {
     "name": "stderr",
     "output_type": "stream",
     "text": [
      "Info: Params [-1.52869035e+00  1.24503656e+00  2.13169465e-04] gave 29.775151543730125\n"
     ]
    },
    {
     "name": "stdout",
     "output_type": "stream",
     "text": [
      "condition skipped: less than 50% reject0\n",
      "fitting: sub 10, cond 1\n"
     ]
    },
    {
     "name": "stderr",
     "output_type": "stream",
     "text": [
      "Info: Params [-3.28505981  1.04974814  0.119957  ] gave -57.462961913457875\n"
     ]
    },
    {
     "name": "stdout",
     "output_type": "stream",
     "text": [
      "fitting: sub 10, cond 2\n"
     ]
    },
    {
     "name": "stderr",
     "output_type": "stream",
     "text": [
      "Info: Params [-6.5731753   1.38387678  0.15208299] gave -138.0987501774311\n"
     ]
    },
    {
     "name": "stdout",
     "output_type": "stream",
     "text": [
      "condition skipped: less than 50% reject3\n",
      "condition skipped: less than 50% reject4\n",
      "fitting: sub 10, cond 5\n"
     ]
    },
    {
     "name": "stderr",
     "output_type": "stream",
     "text": [
      "Info: Params [-2.35613111  0.85101214  0.16925185] gave -18.36286545831276\n"
     ]
    },
    {
     "name": "stdout",
     "output_type": "stream",
     "text": [
      "condition skipped: less than 50% reject6\n",
      "condition skipped: less than 50% reject7\n",
      "fitting: sub 10, cond 8\n"
     ]
    },
    {
     "name": "stderr",
     "output_type": "stream",
     "text": [
      "Info: Params [-1.43321117  1.15239764  0.01962408] gave 39.6728132888821\n"
     ]
    },
    {
     "name": "stdout",
     "output_type": "stream",
     "text": [
      "condition skipped: less than 50% reject0\n",
      "fitting: sub 11, cond 1\n"
     ]
    },
    {
     "name": "stderr",
     "output_type": "stream",
     "text": [
      "Info: Params [-4.18018609  0.94134572  0.17051805] gave -48.8652185573975\n"
     ]
    },
    {
     "name": "stdout",
     "output_type": "stream",
     "text": [
      "fitting: sub 11, cond 2\n"
     ]
    },
    {
     "name": "stderr",
     "output_type": "stream",
     "text": [
      "Info: Params [-2.85563552  0.60803116  0.23630576] gave -35.61091873278413\n"
     ]
    },
    {
     "name": "stdout",
     "output_type": "stream",
     "text": [
      "condition skipped: less than 50% reject3\n",
      "condition skipped: less than 50% reject4\n",
      "fitting: sub 11, cond 5\n"
     ]
    },
    {
     "name": "stderr",
     "output_type": "stream",
     "text": [
      "Info: Params [-3.0093702   0.68970572  0.23595193] gave -29.580079045202336\n"
     ]
    },
    {
     "name": "stdout",
     "output_type": "stream",
     "text": [
      "condition skipped: less than 50% reject6\n",
      "condition skipped: less than 50% reject7\n",
      "fitting: sub 11, cond 8\n"
     ]
    },
    {
     "name": "stderr",
     "output_type": "stream",
     "text": [
      "Info: Params [-2.03028562  1.15045536  0.01205278] gave 5.774792083299186\n"
     ]
    },
    {
     "name": "stdout",
     "output_type": "stream",
     "text": [
      "condition skipped: less than 50% reject0\n",
      "fitting: sub 12, cond 1\n"
     ]
    },
    {
     "name": "stderr",
     "output_type": "stream",
     "text": [
      "Info: Params [-3.07232479  0.70206207  0.20797078] gave -60.96423508379539\n"
     ]
    },
    {
     "name": "stdout",
     "output_type": "stream",
     "text": [
      "fitting: sub 12, cond 2\n"
     ]
    },
    {
     "name": "stderr",
     "output_type": "stream",
     "text": [
      "Info: Params [-3.58767683  0.8572344   0.15940109] gave -67.14879183174934\n"
     ]
    },
    {
     "name": "stdout",
     "output_type": "stream",
     "text": [
      "condition skipped: less than 50% reject3\n",
      "condition skipped: less than 50% reject4\n",
      "fitting: sub 12, cond 5\n"
     ]
    },
    {
     "name": "stderr",
     "output_type": "stream",
     "text": [
      "Info: Params [-3.69084448  0.97394772  0.16390037] gave -58.28815187300896\n"
     ]
    },
    {
     "name": "stdout",
     "output_type": "stream",
     "text": [
      "condition skipped: less than 50% reject6\n",
      "condition skipped: less than 50% reject7\n",
      "fitting: sub 12, cond 8\n"
     ]
    },
    {
     "name": "stderr",
     "output_type": "stream",
     "text": [
      "Info: Params [-3.68803907e+00  1.53058606e+00  9.76976254e-04] gave -30.527866391876174\n"
     ]
    },
    {
     "name": "stdout",
     "output_type": "stream",
     "text": [
      "condition skipped: less than 50% reject0\n",
      "fitting: sub 13, cond 1\n"
     ]
    },
    {
     "name": "stderr",
     "output_type": "stream",
     "text": [
      "Info: Params [-3.22458507  0.67539529  0.18626409] gave -62.31667838940987\n"
     ]
    },
    {
     "name": "stdout",
     "output_type": "stream",
     "text": [
      "fitting: sub 13, cond 2\n"
     ]
    },
    {
     "name": "stderr",
     "output_type": "stream",
     "text": [
      "Info: Params [-6.47389796  2.16957824  0.00667917] gave -85.2001784160071\n"
     ]
    },
    {
     "name": "stdout",
     "output_type": "stream",
     "text": [
      "condition skipped: less than 50% reject3\n",
      "fitting: sub 13, cond 4\n"
     ]
    },
    {
     "name": "stderr",
     "output_type": "stream",
     "text": [
      "Info: Params [-1.8502271   0.84486533  0.15592469] gave 5.3311445624829155\n"
     ]
    },
    {
     "name": "stdout",
     "output_type": "stream",
     "text": [
      "fitting: sub 13, cond 5\n"
     ]
    },
    {
     "name": "stderr",
     "output_type": "stream",
     "text": [
      "Info: Params [-10.           2.3682843    0.11212709] gave -124.46332297607582\n"
     ]
    },
    {
     "name": "stdout",
     "output_type": "stream",
     "text": [
      "condition skipped: less than 50% reject6\n",
      "condition skipped: less than 50% reject7\n",
      "fitting: sub 13, cond 8\n"
     ]
    },
    {
     "name": "stderr",
     "output_type": "stream",
     "text": [
      "Info: Params [-7.41829268e+00  2.62346922e+00  6.72694103e-04] gave -84.44216225021222\n"
     ]
    },
    {
     "name": "stdout",
     "output_type": "stream",
     "text": [
      "condition skipped: less than 50% reject0\n",
      "fitting: sub 14, cond 1\n"
     ]
    },
    {
     "name": "stderr",
     "output_type": "stream",
     "text": [
      "Info: Params [-4.81496855  1.47825395  0.06256926] gave -70.47455898936967\n"
     ]
    },
    {
     "name": "stdout",
     "output_type": "stream",
     "text": [
      "fitting: sub 14, cond 2\n"
     ]
    },
    {
     "name": "stderr",
     "output_type": "stream",
     "text": [
      "Info: Params [-3.48377705  0.55736866  0.22063441] gave -33.7701752891118\n"
     ]
    },
    {
     "name": "stdout",
     "output_type": "stream",
     "text": [
      "condition skipped: less than 50% reject3\n",
      "fitting: sub 14, cond 4\n"
     ]
    },
    {
     "name": "stderr",
     "output_type": "stream",
     "text": [
      "Info: Params [-3.03512983  1.08840818  0.06598481] gave -23.673005538889743\n"
     ]
    },
    {
     "name": "stdout",
     "output_type": "stream",
     "text": [
      "fitting: sub 14, cond 5\n"
     ]
    },
    {
     "name": "stderr",
     "output_type": "stream",
     "text": [
      "Info: Params [-3.20734556  0.59229287  0.2277046 ] gave -68.23931309211223\n"
     ]
    },
    {
     "name": "stdout",
     "output_type": "stream",
     "text": [
      "condition skipped: less than 50% reject6\n",
      "condition skipped: less than 50% reject7\n",
      "fitting: sub 14, cond 8\n"
     ]
    },
    {
     "name": "stderr",
     "output_type": "stream",
     "text": [
      "Info: Params [-4.95121826e+00  1.97098230e+00  2.97085638e-03] gave -53.89192404954512\n"
     ]
    },
    {
     "name": "stdout",
     "output_type": "stream",
     "text": [
      "condition skipped: less than 50% reject0\n",
      "fitting: sub 15, cond 1\n"
     ]
    },
    {
     "name": "stderr",
     "output_type": "stream",
     "text": [
      "Info: Params [-4.92227038  0.82266912  0.18203914] gave -131.3827543201612\n"
     ]
    },
    {
     "name": "stdout",
     "output_type": "stream",
     "text": [
      "fitting: sub 15, cond 2\n"
     ]
    },
    {
     "name": "stderr",
     "output_type": "stream",
     "text": [
      "Info: Params [-5.77513887  1.34038706  0.10082088] gave -122.09810635304319\n"
     ]
    },
    {
     "name": "stdout",
     "output_type": "stream",
     "text": [
      "condition skipped: less than 50% reject3\n",
      "fitting: sub 15, cond 4\n"
     ]
    },
    {
     "name": "stderr",
     "output_type": "stream",
     "text": [
      "Info: Params [-2.49282     0.66611712  0.20798749] gave -30.61775644898013\n"
     ]
    },
    {
     "name": "stdout",
     "output_type": "stream",
     "text": [
      "fitting: sub 15, cond 5\n"
     ]
    },
    {
     "name": "stderr",
     "output_type": "stream",
     "text": [
      "Info: Params [-4.15243253  0.53953671  0.24394637] gave -132.03876427405797\n"
     ]
    },
    {
     "name": "stdout",
     "output_type": "stream",
     "text": [
      "condition skipped: less than 50% reject6\n",
      "condition skipped: less than 50% reject7\n",
      "fitting: sub 15, cond 8\n"
     ]
    },
    {
     "name": "stderr",
     "output_type": "stream",
     "text": [
      "Info: Params [-4.45004561e+00  1.81947525e+00  7.67080873e-04] gave -60.64504842170801\n"
     ]
    },
    {
     "name": "stdout",
     "output_type": "stream",
     "text": [
      "[[ 0.00000000e+00  1.00000000e+00 -3.18417344e+00  1.37772361e+00\n",
      "   1.83000964e-01]\n",
      " [ 0.00000000e+00  2.00000000e+00 -3.28990178e+00  1.28238282e+00\n",
      "   1.66104899e-01]\n",
      " [ 0.00000000e+00  5.00000000e+00 -4.63876097e+00  2.59235957e+00\n",
      "   1.79219663e-03]\n",
      " [ 1.00000000e+00  1.00000000e+00 -3.20363904e+00  6.78148124e-01\n",
      "   3.00435207e-01]\n",
      " [ 1.00000000e+00  2.00000000e+00 -4.42765061e+00  6.39625882e-01\n",
      "   2.97547646e-01]\n",
      " [ 1.00000000e+00  5.00000000e+00 -3.50510577e+00  6.49265439e-01\n",
      "   3.19791890e-01]\n",
      " [ 2.00000000e+00  1.00000000e+00 -3.48334262e+00  8.46192860e-01\n",
      "   2.58177415e-01]\n",
      " [ 2.00000000e+00  2.00000000e+00 -3.59242891e+00  6.02003554e-01\n",
      "   3.01798374e-01]\n",
      " [ 2.00000000e+00  5.00000000e+00 -3.54587598e+00  5.98456603e-01\n",
      "   3.35423800e-01]\n",
      " [ 3.00000000e+00  1.00000000e+00 -4.60694858e+00  6.99802454e-01\n",
      "   2.84533316e-01]\n",
      " [ 3.00000000e+00  2.00000000e+00 -5.46177599e+00  9.07194511e-01\n",
      "   2.47290004e-01]\n",
      " [ 3.00000000e+00  5.00000000e+00 -4.32567865e+00  1.78678106e+00\n",
      "   5.56720643e-02]\n",
      " [ 4.00000000e+00  1.00000000e+00 -4.35867831e+00  1.46494782e+00\n",
      "   1.29875898e-01]\n",
      " [ 4.00000000e+00  2.00000000e+00 -4.38885830e+00  6.23706282e-01\n",
      "   2.70281734e-01]\n",
      " [ 4.00000000e+00  5.00000000e+00 -3.11385512e+00  8.20400544e-01\n",
      "   2.39019016e-01]\n",
      " [ 5.00000000e+00  1.00000000e+00 -5.12068450e+00  2.13537953e+00\n",
      "   2.79823596e-05]\n",
      " [ 5.00000000e+00  2.00000000e+00 -9.95823447e+00  2.78892275e+00\n",
      "   1.01592320e-01]\n",
      " [ 5.00000000e+00  5.00000000e+00 -7.47417539e+00  3.01788805e+00\n",
      "   5.72574112e-03]\n",
      " [ 6.00000000e+00  1.00000000e+00 -6.73347263e+00  2.62345481e+00\n",
      "   7.37088000e-04]\n",
      " [ 6.00000000e+00  2.00000000e+00 -5.86162758e+00  2.01993715e+00\n",
      "   7.20460941e-04]\n",
      " [ 6.00000000e+00  4.00000000e+00 -2.13031018e+00  1.06320530e+00\n",
      "   2.65950535e-04]\n",
      " [ 6.00000000e+00  5.00000000e+00 -3.94424975e+00  1.51895137e+00\n",
      "   5.92451221e-04]\n",
      " [ 6.00000000e+00  8.00000000e+00 -3.00048946e+00  1.38385035e+00\n",
      "   7.56016298e-02]\n",
      " [ 7.00000000e+00  1.00000000e+00 -4.91078096e+00  1.80357425e+00\n",
      "   1.51852293e-04]\n",
      " [ 7.00000000e+00  2.00000000e+00 -5.06208393e+00  1.62747135e+00\n",
      "   6.27945186e-04]\n",
      " [ 7.00000000e+00  4.00000000e+00 -2.48041789e+00  1.31176171e+00\n",
      "   8.39536740e-04]\n",
      " [ 7.00000000e+00  5.00000000e+00 -5.61273821e+00  2.00468395e+00\n",
      "   8.39988660e-04]\n",
      " [ 7.00000000e+00  8.00000000e+00 -3.83009361e+00  1.75709375e+00\n",
      "   6.32326373e-04]\n",
      " [ 8.00000000e+00  1.00000000e+00 -1.65553704e+00  1.59783672e+00\n",
      "   9.07989935e-04]\n",
      " [ 8.00000000e+00  2.00000000e+00 -2.13644545e+00  1.54340861e+00\n",
      "   7.11215041e-04]\n",
      " [ 8.00000000e+00  5.00000000e+00 -1.03705035e+00  1.16424259e+00\n",
      "   5.23416974e-04]\n",
      " [ 8.00000000e+00  8.00000000e+00 -9.90592120e-01  1.51793252e+00\n",
      "   4.76627261e-04]\n",
      " [ 9.00000000e+00  1.00000000e+00 -2.30103797e+00  1.40982214e+00\n",
      "   4.97846234e-04]\n",
      " [ 9.00000000e+00  2.00000000e+00 -3.12048612e+00  7.81291744e-01\n",
      "   2.17399327e-01]\n",
      " [ 9.00000000e+00  5.00000000e+00 -1.72534216e+00  1.49993130e+00\n",
      "   4.95221054e-03]\n",
      " [ 9.00000000e+00  8.00000000e+00 -1.52869035e+00  1.24503656e+00\n",
      "   2.13169465e-04]\n",
      " [ 1.00000000e+01  1.00000000e+00 -3.28505981e+00  1.04974814e+00\n",
      "   1.19957002e-01]\n",
      " [ 1.00000000e+01  2.00000000e+00 -6.57317530e+00  1.38387678e+00\n",
      "   1.52082990e-01]\n",
      " [ 1.00000000e+01  5.00000000e+00 -2.35613111e+00  8.51012139e-01\n",
      "   1.69251848e-01]\n",
      " [ 1.00000000e+01  8.00000000e+00 -1.43321117e+00  1.15239764e+00\n",
      "   1.96240839e-02]\n",
      " [ 1.10000000e+01  1.00000000e+00 -4.18018609e+00  9.41345717e-01\n",
      "   1.70518046e-01]\n",
      " [ 1.10000000e+01  2.00000000e+00 -2.85563552e+00  6.08031155e-01\n",
      "   2.36305756e-01]\n",
      " [ 1.10000000e+01  5.00000000e+00 -3.00937020e+00  6.89705722e-01\n",
      "   2.35951926e-01]\n",
      " [ 1.10000000e+01  8.00000000e+00 -2.03028562e+00  1.15045536e+00\n",
      "   1.20527768e-02]\n",
      " [ 1.20000000e+01  1.00000000e+00 -3.07232479e+00  7.02062069e-01\n",
      "   2.07970783e-01]\n",
      " [ 1.20000000e+01  2.00000000e+00 -3.58767683e+00  8.57234405e-01\n",
      "   1.59401087e-01]\n",
      " [ 1.20000000e+01  5.00000000e+00 -3.69084448e+00  9.73947724e-01\n",
      "   1.63900374e-01]\n",
      " [ 1.20000000e+01  8.00000000e+00 -3.68803907e+00  1.53058606e+00\n",
      "   9.76976254e-04]\n",
      " [ 1.30000000e+01  1.00000000e+00 -3.22458507e+00  6.75395294e-01\n",
      "   1.86264092e-01]\n",
      " [ 1.30000000e+01  2.00000000e+00 -6.47389796e+00  2.16957824e+00\n",
      "   6.67916523e-03]\n",
      " [ 1.30000000e+01  4.00000000e+00 -1.85022710e+00  8.44865330e-01\n",
      "   1.55924690e-01]\n",
      " [ 1.30000000e+01  5.00000000e+00 -1.00000000e+01  2.36828430e+00\n",
      "   1.12127091e-01]\n",
      " [ 1.30000000e+01  8.00000000e+00 -7.41829268e+00  2.62346922e+00\n",
      "   6.72694103e-04]\n",
      " [ 1.40000000e+01  1.00000000e+00 -4.81496855e+00  1.47825395e+00\n",
      "   6.25692591e-02]\n",
      " [ 1.40000000e+01  2.00000000e+00 -3.48377705e+00  5.57368659e-01\n",
      "   2.20634407e-01]\n",
      " [ 1.40000000e+01  4.00000000e+00 -3.03512983e+00  1.08840818e+00\n",
      "   6.59848077e-02]\n",
      " [ 1.40000000e+01  5.00000000e+00 -3.20734556e+00  5.92292866e-01\n",
      "   2.27704596e-01]\n",
      " [ 1.40000000e+01  8.00000000e+00 -4.95121826e+00  1.97098230e+00\n",
      "   2.97085638e-03]\n",
      " [ 1.50000000e+01  1.00000000e+00 -4.92227038e+00  8.22669115e-01\n",
      "   1.82039140e-01]\n",
      " [ 1.50000000e+01  2.00000000e+00 -5.77513887e+00  1.34038706e+00\n",
      "   1.00820882e-01]\n",
      " [ 1.50000000e+01  4.00000000e+00 -2.49282000e+00  6.66117118e-01\n",
      "   2.07987492e-01]\n",
      " [ 1.50000000e+01  5.00000000e+00 -4.15243253e+00  5.39536706e-01\n",
      "   2.43946372e-01]\n",
      " [ 1.50000000e+01  8.00000000e+00 -4.45004561e+00  1.81947525e+00\n",
      "   7.67080873e-04]]\n"
     ]
    }
   ],
   "source": [
    "nparam = 3\n",
    "out = np.zeros((0, nparam + 2))\n",
    "\n",
    "for si in range(16):\n",
    "    for ci in range(9):\n",
    "        tid_s = df[\"session\"] == si + 1\n",
    "        tid_c = df[\"condition\"] == ci + 1\n",
    "        tdf = df[np.array(tid_s) & np.array(tid_c)]\n",
    "        tid = tdf['choice'] == 0\n",
    "        if (np.mean(tid) > 0.5):\n",
    "            print(f'fitting: sub {si}, cond {ci}')\n",
    "            tdf = tdf[tid]\n",
    "            sp = Sample.from_pandas_dataframe(tdf, rt_column_name=\"rt_reject\", correct_column_name=\"choice\")\n",
    "            model_wv = Model(name='WV',\n",
    "                            drift=DriftConstant(drift=Fittable(minval=-10, maxval=10)),\n",
    "                            # noise=NoiseConstant(noise=Fittable(minval=.1, maxval=5.0)),\n",
    "                            noise = NoiseConstant(noise = 1.0),\n",
    "                            bound=BoundConstant(B=Fittable(minval=.1, maxval=5.0)),\n",
    "                            overlay=OverlayNonDecision(nondectime=Fittable(minval=0, maxval=.4)),\n",
    "                            dx=.001, dt=.001, T_dur=5)\n",
    "            # print(model_wv.has_analytical_solution())\n",
    "            fit_model_wv = fit_adjust_model(sample = sp, model = model_wv, verbose = False,\n",
    "                lossfunction=LossRobustLikelihood)\n",
    "            tresult = fit_model_wv.get_model_parameters()\n",
    "            tresult = np.hstack((np.array([si, ci]), np.array(tresult)))\n",
    "            out = np.vstack((out,tresult.reshape((1,nparam + 2))))\n",
    "        else:\n",
    "            print(f'condition skipped: less than 50% reject{ci}')\n",
    "\n",
    "print(out)"
   ]
  },
  {
   "cell_type": "code",
   "execution_count": 10,
   "metadata": {},
   "outputs": [],
   "source": [
    "outdf = pandas.DataFrame(out, columns = ['sessionID', 'condition', 'drift', 'bound', 'nonDT'])"
   ]
  },
  {
   "cell_type": "code",
   "execution_count": 11,
   "metadata": {},
   "outputs": [],
   "source": [
    "outdf.to_csv('./fit_ddm.csv', sep  =',')"
   ]
  },
  {
   "cell_type": "code",
   "execution_count": 13,
   "metadata": {},
   "outputs": [
    {
     "name": "stdout",
     "output_type": "stream",
     "text": [
      "condition skipped: less than 50% reject0\n",
      "fitting: sub 0, cond 1\n"
     ]
    },
    {
     "name": "stderr",
     "output_type": "stream",
     "text": [
      "Info: Params [-3.04216718  1.33441072  0.1         0.19192077] gave -18.004933066938964\n"
     ]
    },
    {
     "name": "stdout",
     "output_type": "stream",
     "text": [
      "fitting: sub 0, cond 2\n"
     ]
    },
    {
     "name": "stderr",
     "output_type": "stream",
     "text": [
      "Info: Params [-3.23362001  1.31942564  0.1         0.16047458] gave -26.104713723950333\n"
     ]
    },
    {
     "name": "stdout",
     "output_type": "stream",
     "text": [
      "condition skipped: less than 50% reject3\n",
      "condition skipped: less than 50% reject4\n",
      "fitting: sub 0, cond 5\n"
     ]
    },
    {
     "name": "stderr",
     "output_type": "stream",
     "text": [
      "Info: Params [-3.95471183e+00  2.58463866e+00  6.78458553e-01  2.77100283e-03] gave -27.72242245184171\n"
     ]
    },
    {
     "name": "stdout",
     "output_type": "stream",
     "text": [
      "condition skipped: less than 50% reject6\n",
      "condition skipped: less than 50% reject7\n",
      "condition skipped: less than 50% reject8\n",
      "condition skipped: less than 50% reject0\n",
      "fitting: sub 1, cond 1\n"
     ]
    },
    {
     "name": "stderr",
     "output_type": "stream",
     "text": [
      "Info: Params [-3.21711285  0.71847953  0.1         0.29532269] gave -59.96745627443664\n"
     ]
    },
    {
     "name": "stdout",
     "output_type": "stream",
     "text": [
      "fitting: sub 1, cond 2\n"
     ]
    },
    {
     "name": "stderr",
     "output_type": "stream",
     "text": [
      "Info: Params [-4.30301123  0.62769776  0.1         0.29917682] gave -98.13308328366476\n"
     ]
    },
    {
     "name": "stdout",
     "output_type": "stream",
     "text": [
      "condition skipped: less than 50% reject3\n",
      "condition skipped: less than 50% reject4\n",
      "fitting: sub 1, cond 5\n"
     ]
    },
    {
     "name": "stderr",
     "output_type": "stream",
     "text": [
      "Info: Params [-3.48731544  0.67588265  0.1         0.31630994] gave -64.56974303325465\n"
     ]
    },
    {
     "name": "stdout",
     "output_type": "stream",
     "text": [
      "condition skipped: less than 50% reject6\n",
      "condition skipped: less than 50% reject7\n",
      "condition skipped: less than 50% reject8\n",
      "condition skipped: less than 50% reject0\n",
      "fitting: sub 2, cond 1\n"
     ]
    },
    {
     "name": "stderr",
     "output_type": "stream",
     "text": [
      "Info: Params [-3.52370338  0.91295627  0.1         0.24984399] gave -72.14184233953969\n"
     ]
    },
    {
     "name": "stdout",
     "output_type": "stream",
     "text": [
      "fitting: sub 2, cond 2\n"
     ]
    },
    {
     "name": "stderr",
     "output_type": "stream",
     "text": [
      "Info: Params [-3.71424284  0.68113108  0.1         0.29084668] gave -94.33582717355124\n"
     ]
    },
    {
     "name": "stdout",
     "output_type": "stream",
     "text": [
      "condition skipped: less than 50% reject3\n",
      "condition skipped: less than 50% reject4\n",
      "fitting: sub 2, cond 5\n"
     ]
    },
    {
     "name": "stderr",
     "output_type": "stream",
     "text": [
      "Info: Params [-3.76310467  0.70615578  0.1         0.32107498] gave -89.87318957995977\n"
     ]
    },
    {
     "name": "stdout",
     "output_type": "stream",
     "text": [
      "condition skipped: less than 50% reject6\n",
      "condition skipped: less than 50% reject7\n",
      "condition skipped: less than 50% reject8\n",
      "condition skipped: less than 50% reject0\n",
      "fitting: sub 3, cond 1\n"
     ]
    },
    {
     "name": "stderr",
     "output_type": "stream",
     "text": [
      "Info: Params [-4.51236525  0.695587    0.1         0.28555485] gave -105.18791161536171\n"
     ]
    },
    {
     "name": "stdout",
     "output_type": "stream",
     "text": [
      "fitting: sub 3, cond 2\n"
     ]
    },
    {
     "name": "stderr",
     "output_type": "stream",
     "text": [
      "Info: Params [-5.46650929  0.94677134  0.1         0.24377635] gave -110.36287523312889\n"
     ]
    },
    {
     "name": "stdout",
     "output_type": "stream",
     "text": [
      "condition skipped: less than 50% reject3\n",
      "condition skipped: less than 50% reject4\n",
      "fitting: sub 3, cond 5\n"
     ]
    },
    {
     "name": "stderr",
     "output_type": "stream",
     "text": [
      "Info: Params [-4.01701841  1.73408955  0.25268814  0.06294905] gave -46.98531878975339\n"
     ]
    },
    {
     "name": "stdout",
     "output_type": "stream",
     "text": [
      "condition skipped: less than 50% reject6\n",
      "condition skipped: less than 50% reject7\n",
      "condition skipped: less than 50% reject8\n",
      "condition skipped: less than 50% reject0\n",
      "fitting: sub 4, cond 1\n"
     ]
    },
    {
     "name": "stderr",
     "output_type": "stream",
     "text": [
      "Info: Params [-3.95496918  1.48009952  0.42315442  0.12773638] gave -55.49783590876471\n"
     ]
    },
    {
     "name": "stdout",
     "output_type": "stream",
     "text": [
      "fitting: sub 4, cond 2\n"
     ]
    },
    {
     "name": "stderr",
     "output_type": "stream",
     "text": [
      "Info: Params [-4.3011945   0.6210305   0.1         0.27158992] gave -101.16581364898337\n"
     ]
    },
    {
     "name": "stdout",
     "output_type": "stream",
     "text": [
      "condition skipped: less than 50% reject3\n",
      "condition skipped: less than 50% reject4\n",
      "fitting: sub 4, cond 5\n"
     ]
    },
    {
     "name": "stderr",
     "output_type": "stream",
     "text": [
      "Info: Params [-3.12188152  0.8688112   0.1         0.23357389] gave -47.39647393173768\n"
     ]
    },
    {
     "name": "stdout",
     "output_type": "stream",
     "text": [
      "condition skipped: less than 50% reject6\n",
      "condition skipped: less than 50% reject7\n",
      "condition skipped: less than 50% reject8\n",
      "condition skipped: less than 50% reject0\n",
      "fitting: sub 5, cond 1\n"
     ]
    },
    {
     "name": "stderr",
     "output_type": "stream",
     "text": [
      "Info: Params [-4.84535973e+00  2.13641436e+00  2.79085524e-01  4.39154858e-04] gave -74.41773261664315\n"
     ]
    },
    {
     "name": "stdout",
     "output_type": "stream",
     "text": [
      "fitting: sub 5, cond 2\n"
     ]
    },
    {
     "name": "stderr",
     "output_type": "stream",
     "text": [
      "Info: Params [-10.           3.22171242   1.           0.0871671 ] gave -173.64856668843004\n"
     ]
    },
    {
     "name": "stdout",
     "output_type": "stream",
     "text": [
      "condition skipped: less than 50% reject3\n",
      "condition skipped: less than 50% reject4\n",
      "fitting: sub 5, cond 5\n"
     ]
    },
    {
     "name": "stderr",
     "output_type": "stream",
     "text": [
      "Info: Params [-4.10246802e+00  1.95781146e+00  7.26829332e-01  9.75662392e-04] gave -68.50968573748946\n"
     ]
    },
    {
     "name": "stdout",
     "output_type": "stream",
     "text": [
      "condition skipped: less than 50% reject6\n",
      "condition skipped: less than 50% reject7\n",
      "condition skipped: less than 50% reject8\n",
      "condition skipped: less than 50% reject0\n",
      "fitting: sub 6, cond 1\n"
     ]
    },
    {
     "name": "stderr",
     "output_type": "stream",
     "text": [
      "Info: Params [-4.18965946e+00  1.71324591e+00  2.43142690e-01  7.33906032e-04] gave -69.4979515818489\n"
     ]
    },
    {
     "name": "stdout",
     "output_type": "stream",
     "text": [
      "fitting: sub 6, cond 2\n"
     ]
    },
    {
     "name": "stderr",
     "output_type": "stream",
     "text": [
      "Info: Params [-4.99866171e+00  2.02100387e+00  8.66835512e-01  7.01852419e-04] gave -108.00663028642067\n"
     ]
    },
    {
     "name": "stdout",
     "output_type": "stream",
     "text": [
      "condition skipped: less than 50% reject3\n",
      "fitting: sub 6, cond 4\n"
     ]
    },
    {
     "name": "stderr",
     "output_type": "stream",
     "text": [
      "Info: Params [-2.04836759e+00  1.07221747e+00  1.00000000e-01  1.92653609e-04] gave 9.618530161822443\n"
     ]
    },
    {
     "name": "stdout",
     "output_type": "stream",
     "text": [
      "fitting: sub 6, cond 5\n"
     ]
    },
    {
     "name": "stderr",
     "output_type": "stream",
     "text": [
      "Info: Params [-3.56589159e+00  1.51793665e+00  3.75823961e-01  3.24775996e-04] gave -56.35324066671826\n"
     ]
    },
    {
     "name": "stdout",
     "output_type": "stream",
     "text": [
      "condition skipped: less than 50% reject6\n",
      "condition skipped: less than 50% reject7\n",
      "fitting: sub 6, cond 8\n"
     ]
    },
    {
     "name": "stderr",
     "output_type": "stream",
     "text": [
      "Info: Params [-2.99243008  1.47573337  0.1         0.05915364] gave -16.590402741271657\n"
     ]
    },
    {
     "name": "stdout",
     "output_type": "stream",
     "text": [
      "condition skipped: less than 50% reject0\n",
      "fitting: sub 7, cond 1\n"
     ]
    },
    {
     "name": "stderr",
     "output_type": "stream",
     "text": [
      "Info: Params [-4.47536107e+00  1.80491133e+00  4.42063039e-01  9.42433063e-04] gave -94.08119205883746\n"
     ]
    },
    {
     "name": "stdout",
     "output_type": "stream",
     "text": [
      "fitting: sub 7, cond 2\n"
     ]
    },
    {
     "name": "stderr",
     "output_type": "stream",
     "text": [
      "Info: Params [-4.25037475e+00  1.62609979e+00  8.03068610e-01  3.85188552e-04] gave -106.86441291423468\n"
     ]
    },
    {
     "name": "stdout",
     "output_type": "stream",
     "text": [
      "condition skipped: less than 50% reject3\n",
      "fitting: sub 7, cond 4\n"
     ]
    },
    {
     "name": "stderr",
     "output_type": "stream",
     "text": [
      "Info: Params [-2.39927739e+00  1.32173549e+00  1.00000000e-01  5.36934955e-04] gave 3.5712030932134007\n"
     ]
    },
    {
     "name": "stdout",
     "output_type": "stream",
     "text": [
      "fitting: sub 7, cond 5\n"
     ]
    },
    {
     "name": "stderr",
     "output_type": "stream",
     "text": [
      "Info: Params [-5.02446420e+00  2.00475441e+00  5.88496511e-01  2.65024923e-04] gave -110.14296078271303\n"
     ]
    },
    {
     "name": "stdout",
     "output_type": "stream",
     "text": [
      "condition skipped: less than 50% reject6\n",
      "condition skipped: less than 50% reject7\n",
      "fitting: sub 7, cond 8\n"
     ]
    },
    {
     "name": "stderr",
     "output_type": "stream",
     "text": [
      "Info: Params [-3.09738150e+00  1.75804514e+00  7.33780853e-01  9.35696696e-04] gave -41.4663876682186\n"
     ]
    },
    {
     "name": "stdout",
     "output_type": "stream",
     "text": [
      "condition skipped: less than 50% reject0\n",
      "fitting: sub 8, cond 1\n"
     ]
    },
    {
     "name": "stderr",
     "output_type": "stream",
     "text": [
      "Info: Params [-1.57445937e+00  1.61609786e+00  1.00000000e-01  8.98465477e-04] gave 47.13306453178719\n"
     ]
    },
    {
     "name": "stdout",
     "output_type": "stream",
     "text": [
      "fitting: sub 8, cond 2\n"
     ]
    },
    {
     "name": "stderr",
     "output_type": "stream",
     "text": [
      "Info: Params [-2.04776789e+00  1.55158815e+00  1.00000000e-01  4.92776067e-04] gave 24.526350977189725\n"
     ]
    },
    {
     "name": "stdout",
     "output_type": "stream",
     "text": [
      "condition skipped: less than 50% reject3\n",
      "condition skipped: less than 50% reject4\n",
      "fitting: sub 8, cond 5\n"
     ]
    },
    {
     "name": "stderr",
     "output_type": "stream",
     "text": [
      "Info: Params [-9.91470505e-01  1.22533732e+00  1.00000000e-01  5.36842761e-04] gave 77.3885397838987\n"
     ]
    },
    {
     "name": "stdout",
     "output_type": "stream",
     "text": [
      "condition skipped: less than 50% reject6\n",
      "condition skipped: less than 50% reject7\n",
      "fitting: sub 8, cond 8\n"
     ]
    },
    {
     "name": "stderr",
     "output_type": "stream",
     "text": [
      "Info: Params [-9.30712916e-01  1.57941070e+00  1.00000000e-01  8.86328773e-04] gave 68.6859294262616\n"
     ]
    },
    {
     "name": "stdout",
     "output_type": "stream",
     "text": [
      "condition skipped: less than 50% reject0\n",
      "fitting: sub 9, cond 1\n"
     ]
    },
    {
     "name": "stderr",
     "output_type": "stream",
     "text": [
      "Info: Params [-2.21323294e+00  1.41729388e+00  1.00000000e-01  3.94194824e-04] gave 12.510213113560795\n"
     ]
    },
    {
     "name": "stdout",
     "output_type": "stream",
     "text": [
      "fitting: sub 9, cond 2\n"
     ]
    },
    {
     "name": "stderr",
     "output_type": "stream",
     "text": [
      "Info: Params [-3.05158765  0.80243256  0.10621851  0.21626066] gave -57.23719762027865\n"
     ]
    },
    {
     "name": "stdout",
     "output_type": "stream",
     "text": [
      "condition skipped: less than 50% reject3\n",
      "condition skipped: less than 50% reject4\n",
      "fitting: sub 9, cond 5\n"
     ]
    },
    {
     "name": "stderr",
     "output_type": "stream",
     "text": [
      "Info: Params [-1.65809929  1.52840877  0.1         0.00429429] gave 38.890815519666994\n"
     ]
    },
    {
     "name": "stdout",
     "output_type": "stream",
     "text": [
      "condition skipped: less than 50% reject6\n",
      "condition skipped: less than 50% reject7\n",
      "fitting: sub 9, cond 8\n"
     ]
    },
    {
     "name": "stderr",
     "output_type": "stream",
     "text": [
      "Info: Params [-1.49108574e+00  1.29585447e+00  1.00000000e-01  5.62404866e-04] gave 31.101539863669398\n"
     ]
    },
    {
     "name": "stdout",
     "output_type": "stream",
     "text": [
      "condition skipped: less than 50% reject0\n",
      "fitting: sub 10, cond 1\n"
     ]
    },
    {
     "name": "stderr",
     "output_type": "stream",
     "text": [
      "Info: Params [-3.23659127  1.07622757  0.1         0.1168434 ] gave -57.0500442118894\n"
     ]
    },
    {
     "name": "stdout",
     "output_type": "stream",
     "text": [
      "fitting: sub 10, cond 2\n"
     ]
    },
    {
     "name": "stderr",
     "output_type": "stream",
     "text": [
      "Info: Params [-6.0598569   1.4204627   0.59597035  0.149522  ] gave -138.07690835408775\n"
     ]
    },
    {
     "name": "stdout",
     "output_type": "stream",
     "text": [
      "condition skipped: less than 50% reject3\n",
      "condition skipped: less than 50% reject4\n",
      "fitting: sub 10, cond 5\n"
     ]
    },
    {
     "name": "stderr",
     "output_type": "stream",
     "text": [
      "Info: Params [-2.40174453  0.9586469   0.1         0.1473211 ] gave -15.946752604965459\n"
     ]
    },
    {
     "name": "stdout",
     "output_type": "stream",
     "text": [
      "condition skipped: less than 50% reject6\n",
      "condition skipped: less than 50% reject7\n",
      "fitting: sub 10, cond 8\n"
     ]
    },
    {
     "name": "stderr",
     "output_type": "stream",
     "text": [
      "Info: Params [-1.43228247  1.25810687  0.1         0.00288801] gave 43.35807959171804\n"
     ]
    },
    {
     "name": "stdout",
     "output_type": "stream",
     "text": [
      "condition skipped: less than 50% reject0\n",
      "fitting: sub 11, cond 1\n"
     ]
    },
    {
     "name": "stderr",
     "output_type": "stream",
     "text": [
      "Info: Params [-4.17433231  0.98805508  0.1         0.16462615] gave -48.77914840647938\n"
     ]
    },
    {
     "name": "stdout",
     "output_type": "stream",
     "text": [
      "fitting: sub 11, cond 2\n"
     ]
    },
    {
     "name": "stderr",
     "output_type": "stream",
     "text": [
      "Info: Params [-2.84848356  0.65164513  0.1         0.22875352] gave -34.93326975970702\n"
     ]
    },
    {
     "name": "stdout",
     "output_type": "stream",
     "text": [
      "condition skipped: less than 50% reject3\n",
      "condition skipped: less than 50% reject4\n",
      "fitting: sub 11, cond 5\n"
     ]
    },
    {
     "name": "stderr",
     "output_type": "stream",
     "text": [
      "Info: Params [-2.96232597  0.70481235  0.1         0.23471674] gave -29.213865620155712\n"
     ]
    },
    {
     "name": "stdout",
     "output_type": "stream",
     "text": [
      "condition skipped: less than 50% reject6\n",
      "condition skipped: less than 50% reject7\n",
      "fitting: sub 11, cond 8\n"
     ]
    },
    {
     "name": "stderr",
     "output_type": "stream",
     "text": [
      "Info: Params [-2.00621912  1.21454522  0.1         0.00247617] gave 6.301427984740011\n"
     ]
    },
    {
     "name": "stdout",
     "output_type": "stream",
     "text": [
      "condition skipped: less than 50% reject0\n",
      "fitting: sub 12, cond 1\n"
     ]
    },
    {
     "name": "stderr",
     "output_type": "stream",
     "text": [
      "Info: Params [-3.10294688  0.75426632  0.1         0.20054191] gave -59.15640650412378\n"
     ]
    },
    {
     "name": "stdout",
     "output_type": "stream",
     "text": [
      "fitting: sub 12, cond 2\n"
     ]
    },
    {
     "name": "stderr",
     "output_type": "stream",
     "text": [
      "Info: Params [-3.49175752  0.84686899  0.1         0.16218928] gave -66.94940787725747\n"
     ]
    },
    {
     "name": "stdout",
     "output_type": "stream",
     "text": [
      "condition skipped: less than 50% reject3\n",
      "condition skipped: less than 50% reject4\n",
      "fitting: sub 12, cond 5\n"
     ]
    },
    {
     "name": "stderr",
     "output_type": "stream",
     "text": [
      "Info: Params [-3.6241277   0.99119068  0.1         0.16144138] gave -58.07615318578099\n"
     ]
    },
    {
     "name": "stdout",
     "output_type": "stream",
     "text": [
      "condition skipped: less than 50% reject6\n",
      "condition skipped: less than 50% reject7\n",
      "fitting: sub 12, cond 8\n"
     ]
    },
    {
     "name": "stderr",
     "output_type": "stream",
     "text": [
      "Info: Params [-2.98618115e+00  1.53124422e+00  7.03906533e-01  4.31800460e-04] gave -30.52587298847274\n"
     ]
    },
    {
     "name": "stdout",
     "output_type": "stream",
     "text": [
      "condition skipped: less than 50% reject0\n",
      "fitting: sub 13, cond 1\n"
     ]
    },
    {
     "name": "stderr",
     "output_type": "stream",
     "text": [
      "Info: Params [-3.30913983  0.75577988  0.1         0.17421628] gave -60.12078233275701\n"
     ]
    },
    {
     "name": "stdout",
     "output_type": "stream",
     "text": [
      "fitting: sub 13, cond 2\n"
     ]
    },
    {
     "name": "stderr",
     "output_type": "stream",
     "text": [
      "Info: Params [-5.67829404  2.13870297  0.75966225  0.00949787] gave -85.18342027448142\n"
     ]
    },
    {
     "name": "stdout",
     "output_type": "stream",
     "text": [
      "condition skipped: less than 50% reject3\n",
      "fitting: sub 13, cond 4\n"
     ]
    },
    {
     "name": "stderr",
     "output_type": "stream",
     "text": [
      "Info: Params [-1.91632901  1.02959339  0.1         0.10136986] gave 8.368870464576712\n"
     ]
    },
    {
     "name": "stdout",
     "output_type": "stream",
     "text": [
      "fitting: sub 13, cond 5\n"
     ]
    },
    {
     "name": "stderr",
     "output_type": "stream",
     "text": [
      "Info: Params [-9.66522169  2.50168138  0.55496271  0.10427512] gave -124.49064065091463\n"
     ]
    },
    {
     "name": "stdout",
     "output_type": "stream",
     "text": [
      "condition skipped: less than 50% reject6\n",
      "condition skipped: less than 50% reject7\n",
      "fitting: sub 13, cond 8\n"
     ]
    },
    {
     "name": "stderr",
     "output_type": "stream",
     "text": [
      "Info: Params [-6.84406550e+00  2.61692760e+00  5.53755976e-01  8.79298947e-04] gave -84.44165074475285\n"
     ]
    },
    {
     "name": "stdout",
     "output_type": "stream",
     "text": [
      "condition skipped: less than 50% reject0\n",
      "fitting: sub 14, cond 1\n"
     ]
    },
    {
     "name": "stderr",
     "output_type": "stream",
     "text": [
      "Info: Params [-4.76378273  1.51264863  0.1         0.05863876] gave -70.43366624575982\n"
     ]
    },
    {
     "name": "stdout",
     "output_type": "stream",
     "text": [
      "fitting: sub 14, cond 2\n"
     ]
    },
    {
     "name": "stderr",
     "output_type": "stream",
     "text": [
      "Info: Params [-3.47485539e+00  1.34342161e+00  1.00000000e-01  7.07844548e-05] gave -38.65748119692928\n"
     ]
    },
    {
     "name": "stdout",
     "output_type": "stream",
     "text": [
      "condition skipped: less than 50% reject3\n",
      "fitting: sub 14, cond 4\n"
     ]
    },
    {
     "name": "stderr",
     "output_type": "stream",
     "text": [
      "Info: Params [-3.01124341  1.13748114  0.1         0.05847525] gave -23.368108374338828\n"
     ]
    },
    {
     "name": "stdout",
     "output_type": "stream",
     "text": [
      "fitting: sub 14, cond 5\n"
     ]
    },
    {
     "name": "stderr",
     "output_type": "stream",
     "text": [
      "Info: Params [-3.50500581  0.73863399  0.1         0.20795135] gave -62.280797232495\n"
     ]
    },
    {
     "name": "stdout",
     "output_type": "stream",
     "text": [
      "condition skipped: less than 50% reject6\n",
      "condition skipped: less than 50% reject7\n",
      "fitting: sub 14, cond 8\n"
     ]
    },
    {
     "name": "stderr",
     "output_type": "stream",
     "text": [
      "Info: Params [-4.12211927e+00  1.97912168e+00  8.44857695e-01  2.40788530e-05] gave -53.94229794931898\n"
     ]
    },
    {
     "name": "stdout",
     "output_type": "stream",
     "text": [
      "condition skipped: less than 50% reject0\n",
      "fitting: sub 15, cond 1\n"
     ]
    },
    {
     "name": "stderr",
     "output_type": "stream",
     "text": [
      "Info: Params [-4.82919472  0.819343    0.1         0.18328577] gave -130.99470178845087\n"
     ]
    },
    {
     "name": "stdout",
     "output_type": "stream",
     "text": [
      "fitting: sub 15, cond 2\n"
     ]
    },
    {
     "name": "stderr",
     "output_type": "stream",
     "text": [
      "Info: Params [-5.57456691  1.35973177  0.22839037  0.09826258] gave -122.06433687951152\n"
     ]
    },
    {
     "name": "stdout",
     "output_type": "stream",
     "text": [
      "condition skipped: less than 50% reject3\n",
      "fitting: sub 15, cond 4\n"
     ]
    },
    {
     "name": "stderr",
     "output_type": "stream",
     "text": [
      "Info: Params [-2.57885382  0.77469854  0.1         0.18525379] gave -27.06502861766969\n"
     ]
    },
    {
     "name": "stdout",
     "output_type": "stream",
     "text": [
      "fitting: sub 15, cond 5\n"
     ]
    },
    {
     "name": "stderr",
     "output_type": "stream",
     "text": [
      "Info: Params [-4.30719637  0.6161559   0.1         0.23396741] gave -130.21402104144443\n"
     ]
    },
    {
     "name": "stdout",
     "output_type": "stream",
     "text": [
      "condition skipped: less than 50% reject6\n",
      "condition skipped: less than 50% reject7\n",
      "fitting: sub 15, cond 8\n"
     ]
    },
    {
     "name": "stderr",
     "output_type": "stream",
     "text": [
      "Info: Params [-4.33466806e+00  1.81817767e+00  1.07643519e-01  5.23524886e-04] gave -60.630315256642646\n"
     ]
    },
    {
     "name": "stdout",
     "output_type": "stream",
     "text": [
      "[[ 0.00000000e+00  1.00000000e+00 -3.04216718e+00  1.33441072e+00\n",
      "   1.00000000e-01  1.91920773e-01]\n",
      " [ 0.00000000e+00  2.00000000e+00 -3.23362001e+00  1.31942564e+00\n",
      "   1.00000000e-01  1.60474582e-01]\n",
      " [ 0.00000000e+00  5.00000000e+00 -3.95471183e+00  2.58463866e+00\n",
      "   6.78458553e-01  2.77100283e-03]\n",
      " [ 1.00000000e+00  1.00000000e+00 -3.21711285e+00  7.18479525e-01\n",
      "   1.00000000e-01  2.95322694e-01]\n",
      " [ 1.00000000e+00  2.00000000e+00 -4.30301123e+00  6.27697760e-01\n",
      "   1.00000000e-01  2.99176825e-01]\n",
      " [ 1.00000000e+00  5.00000000e+00 -3.48731544e+00  6.75882649e-01\n",
      "   1.00000000e-01  3.16309937e-01]\n",
      " [ 2.00000000e+00  1.00000000e+00 -3.52370338e+00  9.12956267e-01\n",
      "   1.00000000e-01  2.49843994e-01]\n",
      " [ 2.00000000e+00  2.00000000e+00 -3.71424284e+00  6.81131078e-01\n",
      "   1.00000000e-01  2.90846684e-01]\n",
      " [ 2.00000000e+00  5.00000000e+00 -3.76310467e+00  7.06155779e-01\n",
      "   1.00000000e-01  3.21074975e-01]\n",
      " [ 3.00000000e+00  1.00000000e+00 -4.51236525e+00  6.95586996e-01\n",
      "   1.00000000e-01  2.85554846e-01]\n",
      " [ 3.00000000e+00  2.00000000e+00 -5.46650929e+00  9.46771345e-01\n",
      "   1.00000000e-01  2.43776351e-01]\n",
      " [ 3.00000000e+00  5.00000000e+00 -4.01701841e+00  1.73408955e+00\n",
      "   2.52688138e-01  6.29490540e-02]\n",
      " [ 4.00000000e+00  1.00000000e+00 -3.95496918e+00  1.48009952e+00\n",
      "   4.23154416e-01  1.27736376e-01]\n",
      " [ 4.00000000e+00  2.00000000e+00 -4.30119450e+00  6.21030500e-01\n",
      "   1.00000000e-01  2.71589925e-01]\n",
      " [ 4.00000000e+00  5.00000000e+00 -3.12188152e+00  8.68811198e-01\n",
      "   1.00000000e-01  2.33573891e-01]\n",
      " [ 5.00000000e+00  1.00000000e+00 -4.84535973e+00  2.13641436e+00\n",
      "   2.79085524e-01  4.39154858e-04]\n",
      " [ 5.00000000e+00  2.00000000e+00 -1.00000000e+01  3.22171242e+00\n",
      "   1.00000000e+00  8.71671006e-02]\n",
      " [ 5.00000000e+00  5.00000000e+00 -4.10246802e+00  1.95781146e+00\n",
      "   7.26829332e-01  9.75662392e-04]\n",
      " [ 6.00000000e+00  1.00000000e+00 -4.18965946e+00  1.71324591e+00\n",
      "   2.43142690e-01  7.33906032e-04]\n",
      " [ 6.00000000e+00  2.00000000e+00 -4.99866171e+00  2.02100387e+00\n",
      "   8.66835512e-01  7.01852419e-04]\n",
      " [ 6.00000000e+00  4.00000000e+00 -2.04836759e+00  1.07221747e+00\n",
      "   1.00000000e-01  1.92653609e-04]\n",
      " [ 6.00000000e+00  5.00000000e+00 -3.56589159e+00  1.51793665e+00\n",
      "   3.75823961e-01  3.24775996e-04]\n",
      " [ 6.00000000e+00  8.00000000e+00 -2.99243008e+00  1.47573337e+00\n",
      "   1.00000000e-01  5.91536435e-02]\n",
      " [ 7.00000000e+00  1.00000000e+00 -4.47536107e+00  1.80491133e+00\n",
      "   4.42063039e-01  9.42433063e-04]\n",
      " [ 7.00000000e+00  2.00000000e+00 -4.25037475e+00  1.62609979e+00\n",
      "   8.03068610e-01  3.85188552e-04]\n",
      " [ 7.00000000e+00  4.00000000e+00 -2.39927739e+00  1.32173549e+00\n",
      "   1.00000000e-01  5.36934955e-04]\n",
      " [ 7.00000000e+00  5.00000000e+00 -5.02446420e+00  2.00475441e+00\n",
      "   5.88496511e-01  2.65024923e-04]\n",
      " [ 7.00000000e+00  8.00000000e+00 -3.09738150e+00  1.75804514e+00\n",
      "   7.33780853e-01  9.35696696e-04]\n",
      " [ 8.00000000e+00  1.00000000e+00 -1.57445937e+00  1.61609786e+00\n",
      "   1.00000000e-01  8.98465477e-04]\n",
      " [ 8.00000000e+00  2.00000000e+00 -2.04776789e+00  1.55158815e+00\n",
      "   1.00000000e-01  4.92776067e-04]\n",
      " [ 8.00000000e+00  5.00000000e+00 -9.91470505e-01  1.22533732e+00\n",
      "   1.00000000e-01  5.36842761e-04]\n",
      " [ 8.00000000e+00  8.00000000e+00 -9.30712916e-01  1.57941070e+00\n",
      "   1.00000000e-01  8.86328773e-04]\n",
      " [ 9.00000000e+00  1.00000000e+00 -2.21323294e+00  1.41729388e+00\n",
      "   1.00000000e-01  3.94194824e-04]\n",
      " [ 9.00000000e+00  2.00000000e+00 -3.05158765e+00  8.02432558e-01\n",
      "   1.06218505e-01  2.16260659e-01]\n",
      " [ 9.00000000e+00  5.00000000e+00 -1.65809929e+00  1.52840877e+00\n",
      "   1.00000000e-01  4.29429158e-03]\n",
      " [ 9.00000000e+00  8.00000000e+00 -1.49108574e+00  1.29585447e+00\n",
      "   1.00000000e-01  5.62404866e-04]\n",
      " [ 1.00000000e+01  1.00000000e+00 -3.23659127e+00  1.07622757e+00\n",
      "   1.00000000e-01  1.16843396e-01]\n",
      " [ 1.00000000e+01  2.00000000e+00 -6.05985690e+00  1.42046270e+00\n",
      "   5.95970354e-01  1.49521997e-01]\n",
      " [ 1.00000000e+01  5.00000000e+00 -2.40174453e+00  9.58646896e-01\n",
      "   1.00000000e-01  1.47321101e-01]\n",
      " [ 1.00000000e+01  8.00000000e+00 -1.43228247e+00  1.25810687e+00\n",
      "   1.00000000e-01  2.88801212e-03]\n",
      " [ 1.10000000e+01  1.00000000e+00 -4.17433231e+00  9.88055077e-01\n",
      "   1.00000000e-01  1.64626145e-01]\n",
      " [ 1.10000000e+01  2.00000000e+00 -2.84848356e+00  6.51645131e-01\n",
      "   1.00000000e-01  2.28753519e-01]\n",
      " [ 1.10000000e+01  5.00000000e+00 -2.96232597e+00  7.04812348e-01\n",
      "   1.00000000e-01  2.34716740e-01]\n",
      " [ 1.10000000e+01  8.00000000e+00 -2.00621912e+00  1.21454522e+00\n",
      "   1.00000000e-01  2.47617496e-03]\n",
      " [ 1.20000000e+01  1.00000000e+00 -3.10294688e+00  7.54266320e-01\n",
      "   1.00000000e-01  2.00541906e-01]\n",
      " [ 1.20000000e+01  2.00000000e+00 -3.49175752e+00  8.46868991e-01\n",
      "   1.00000000e-01  1.62189284e-01]\n",
      " [ 1.20000000e+01  5.00000000e+00 -3.62412770e+00  9.91190679e-01\n",
      "   1.00000000e-01  1.61441377e-01]\n",
      " [ 1.20000000e+01  8.00000000e+00 -2.98618115e+00  1.53124422e+00\n",
      "   7.03906533e-01  4.31800460e-04]\n",
      " [ 1.30000000e+01  1.00000000e+00 -3.30913983e+00  7.55779875e-01\n",
      "   1.00000000e-01  1.74216284e-01]\n",
      " [ 1.30000000e+01  2.00000000e+00 -5.67829404e+00  2.13870297e+00\n",
      "   7.59662246e-01  9.49787199e-03]\n",
      " [ 1.30000000e+01  4.00000000e+00 -1.91632901e+00  1.02959339e+00\n",
      "   1.00000000e-01  1.01369863e-01]\n",
      " [ 1.30000000e+01  5.00000000e+00 -9.66522169e+00  2.50168138e+00\n",
      "   5.54962710e-01  1.04275122e-01]\n",
      " [ 1.30000000e+01  8.00000000e+00 -6.84406550e+00  2.61692760e+00\n",
      "   5.53755976e-01  8.79298947e-04]\n",
      " [ 1.40000000e+01  1.00000000e+00 -4.76378273e+00  1.51264863e+00\n",
      "   1.00000000e-01  5.86387564e-02]\n",
      " [ 1.40000000e+01  2.00000000e+00 -3.47485539e+00  1.34342161e+00\n",
      "   1.00000000e-01  7.07844548e-05]\n",
      " [ 1.40000000e+01  4.00000000e+00 -3.01124341e+00  1.13748114e+00\n",
      "   1.00000000e-01  5.84752534e-02]\n",
      " [ 1.40000000e+01  5.00000000e+00 -3.50500581e+00  7.38633987e-01\n",
      "   1.00000000e-01  2.07951352e-01]\n",
      " [ 1.40000000e+01  8.00000000e+00 -4.12211927e+00  1.97912168e+00\n",
      "   8.44857695e-01  2.40788530e-05]\n",
      " [ 1.50000000e+01  1.00000000e+00 -4.82919472e+00  8.19343001e-01\n",
      "   1.00000000e-01  1.83285766e-01]\n",
      " [ 1.50000000e+01  2.00000000e+00 -5.57456691e+00  1.35973177e+00\n",
      "   2.28390372e-01  9.82625818e-02]\n",
      " [ 1.50000000e+01  4.00000000e+00 -2.57885382e+00  7.74698538e-01\n",
      "   1.00000000e-01  1.85253788e-01]\n",
      " [ 1.50000000e+01  5.00000000e+00 -4.30719637e+00  6.16155903e-01\n",
      "   1.00000000e-01  2.33967412e-01]\n",
      " [ 1.50000000e+01  8.00000000e+00 -4.33466806e+00  1.81817767e+00\n",
      "   1.07643519e-01  5.23524886e-04]]\n"
     ]
    }
   ],
   "source": [
    "nparam = 4\n",
    "out = np.zeros((0, nparam + 2))\n",
    "\n",
    "for si in range(16):\n",
    "    for ci in range(9):\n",
    "        tid_s = df[\"session\"] == si + 1\n",
    "        tid_c = df[\"condition\"] == ci + 1\n",
    "        tdf = df[np.array(tid_s) & np.array(tid_c)]\n",
    "        tid = tdf['choice'] == 0\n",
    "        if (np.mean(tid) > 0.5):\n",
    "            print(f'fitting: sub {si}, cond {ci}')\n",
    "            tdf = tdf[tid]\n",
    "            sp = Sample.from_pandas_dataframe(tdf, rt_column_name=\"rt_reject\", correct_column_name=\"choice\")\n",
    "            model_wv = Model(name='WV',\n",
    "                            drift=DriftConstant(drift=Fittable(minval=-10, maxval=10)),\n",
    "                            # noise=NoiseConstant(noise=Fittable(minval=.1, maxval=5.0)),\n",
    "                            noise = NoiseConstant(noise = 1),\n",
    "                            bound=BoundCollapsingLinear(B=Fittable(minval=.1, maxval=5.0), t = Fittable(minval = .1, maxval = 1.0)),\n",
    "                            overlay=OverlayNonDecision(nondectime=Fittable(minval=0, maxval=.4)),\n",
    "                            dx=.001, dt=.001, T_dur=5)\n",
    "            # print(model_wv.has_analytical_solution())\n",
    "            fit_model_wv = fit_adjust_model(sample = sp, model = model_wv, verbose = False,\n",
    "                lossfunction= LossRobustLikelihood)\n",
    "            tresult = fit_model_wv.get_model_parameters()\n",
    "            tresult = np.hstack((np.array([si, ci]), np.array(tresult)))\n",
    "            out = np.vstack((out,tresult.reshape((1,nparam + 2))))\n",
    "        else:\n",
    "            print(f'condition skipped: less than 50% reject{ci}')\n",
    "\n",
    "print(out)"
   ]
  },
  {
   "cell_type": "code",
   "execution_count": null,
   "metadata": {},
   "outputs": [],
   "source": [
    "\n",
    "outdf = pandas.DataFrame(out, columns = ['sessionID', 'condition', 'drift', 'bound', 'collapseslope','nonDT'])\n",
    "outdf.to_csv('./fit_ddm_collapsingbound.csv', sep  =',')"
   ]
  }
 ],
 "metadata": {
  "kernelspec": {
   "display_name": "Python 3.9.7 ('base')",
   "language": "python",
   "name": "python3"
  },
  "language_info": {
   "codemirror_mode": {
    "name": "ipython",
    "version": 3
   },
   "file_extension": ".py",
   "mimetype": "text/x-python",
   "name": "python",
   "nbconvert_exporter": "python",
   "pygments_lexer": "ipython3",
   "version": "3.9.7"
  },
  "orig_nbformat": 4,
  "vscode": {
   "interpreter": {
    "hash": "98ba0ce262ab245ac167001ec0024dd2c1ecc1e28b4ebb3ed2162e72097f6c43"
   }
  }
 },
 "nbformat": 4,
 "nbformat_minor": 2
}
