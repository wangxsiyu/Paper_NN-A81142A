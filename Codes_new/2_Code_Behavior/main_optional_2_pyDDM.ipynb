{
 "cells": [
  {
   "cell_type": "code",
   "execution_count": 1,
   "metadata": {},
   "outputs": [
    {
     "name": "stdout",
     "output_type": "stream",
     "text": [
      "{'divide': 'warn', 'over': 'warn', 'under': 'ignore', 'invalid': 'ignore'}\n"
     ]
    }
   ],
   "source": [
    "import numpy as np\n",
    "np.seterr(invalid='ignore')\n",
    "print(np.seterr())\n",
    "# import warnings\n",
    "# warnings.filterwarnings(\"ignore\")"
   ]
  },
  {
   "cell_type": "code",
   "execution_count": 2,
   "metadata": {},
   "outputs": [],
   "source": [
    "from pyddm import Sample\n",
    "import pyddm as ddm\n",
    "from pyddm import Model, Fittable\n",
    "from pyddm.functions import fit_adjust_model, display_model\n",
    "from pyddm.models import DriftConstant, NoiseConstant, BoundConstant, BoundCollapsingLinear, OverlayChain, OverlayNonDecision, OverlayPoissonMixture\n",
    "from pyddm.models.loss import LossRobustLikelihood"
   ]
  },
  {
   "cell_type": "code",
   "execution_count": 3,
   "metadata": {},
   "outputs": [],
   "source": [
    "# load data\n",
    "import pandas\n",
    "df = pandas.read_csv('./Temp/data_ddm.csv')"
   ]
  },
  {
   "cell_type": "code",
   "execution_count": 5,
   "metadata": {},
   "outputs": [
    {
     "name": "stdout",
     "output_type": "stream",
     "text": [
      "       condition  rt_reject  choice  session\n",
      "1              9   0.486783       0        1\n",
      "2              2   1.021700       0        1\n",
      "7              9   0.281817       0        1\n",
      "11             6   0.476767       0        1\n",
      "13             2   1.496633       0        1\n",
      "...          ...        ...     ...      ...\n",
      "12864          6   0.399767       0       16\n",
      "12866          8   0.499733       0       16\n",
      "12867          2   0.340767       0       16\n",
      "12868          3   0.423767       0       16\n",
      "12870          6   0.585717       0       16\n",
      "\n",
      "[5898 rows x 4 columns]\n"
     ]
    }
   ],
   "source": [
    "# keep reject choices only\n",
    "tid = df['choice'] == 0\n",
    "df_rj = df[tid]\n",
    "print(df_rj)"
   ]
  },
  {
   "cell_type": "code",
   "execution_count": 6,
   "metadata": {},
   "outputs": [
    {
     "name": "stdout",
     "output_type": "stream",
     "text": [
      "condition skipped: less than 50% reject0\n",
      "fitting: sub 0, cond 1\n"
     ]
    },
    {
     "name": "stderr",
     "output_type": "stream",
     "text": [
      "Info: Params [-3.14328323  1.3380281   0.19019762] gave -18.021655257221042\n"
     ]
    },
    {
     "name": "stdout",
     "output_type": "stream",
     "text": [
      "fitting: sub 0, cond 2\n"
     ]
    },
    {
     "name": "stderr",
     "output_type": "stream",
     "text": [
      "Info: Params [-3.27005403  1.26483651  0.16971946] gave -26.16411197269786\n"
     ]
    },
    {
     "name": "stdout",
     "output_type": "stream",
     "text": [
      "condition skipped: less than 50% reject3\n",
      "condition skipped: less than 50% reject4\n",
      "fitting: sub 0, cond 5\n"
     ]
    },
    {
     "name": "stderr",
     "output_type": "stream",
     "text": [
      "Info: Params [-4.63329744e+00  2.58467290e+00  2.93184161e-03] gave -27.722668250538923\n"
     ]
    },
    {
     "name": "stdout",
     "output_type": "stream",
     "text": [
      "condition skipped: less than 50% reject6\n",
      "condition skipped: less than 50% reject7\n",
      "condition skipped: less than 50% reject8\n",
      "condition skipped: less than 50% reject0\n",
      "fitting: sub 1, cond 1\n"
     ]
    },
    {
     "name": "stderr",
     "output_type": "stream",
     "text": [
      "Info: Params [-3.18759217  0.66829092  0.30213482] gave -61.28948817004431\n"
     ]
    },
    {
     "name": "stdout",
     "output_type": "stream",
     "text": [
      "fitting: sub 1, cond 2\n"
     ]
    },
    {
     "name": "stderr",
     "output_type": "stream",
     "text": [
      "Info: Params [-4.4274321   0.63960993  0.29744536] gave -98.30388558637857\n"
     ]
    },
    {
     "name": "stdout",
     "output_type": "stream",
     "text": [
      "condition skipped: less than 50% reject3\n",
      "condition skipped: less than 50% reject4\n",
      "fitting: sub 1, cond 5\n"
     ]
    },
    {
     "name": "stderr",
     "output_type": "stream",
     "text": [
      "Info: Params [-3.5102868   0.65457028  0.31977129] gave -65.27735661183334\n"
     ]
    },
    {
     "name": "stdout",
     "output_type": "stream",
     "text": [
      "condition skipped: less than 50% reject6\n",
      "condition skipped: less than 50% reject7\n",
      "condition skipped: less than 50% reject8\n",
      "condition skipped: less than 50% reject0\n",
      "fitting: sub 2, cond 1\n"
     ]
    },
    {
     "name": "stderr",
     "output_type": "stream",
     "text": [
      "Info: Params [-3.50359276  0.85812476  0.25622669] gave -73.00397338215345\n"
     ]
    },
    {
     "name": "stdout",
     "output_type": "stream",
     "text": [
      "fitting: sub 2, cond 2\n"
     ]
    },
    {
     "name": "stderr",
     "output_type": "stream",
     "text": [
      "Info: Params [-3.63103372  0.61928814  0.29829072] gave -96.1504705477935\n"
     ]
    },
    {
     "name": "stdout",
     "output_type": "stream",
     "text": [
      "condition skipped: less than 50% reject3\n",
      "condition skipped: less than 50% reject4\n",
      "fitting: sub 2, cond 5\n"
     ]
    },
    {
     "name": "stderr",
     "output_type": "stream",
     "text": [
      "Info: Params [-3.52295339  0.58762104  0.33799074] gave -93.9360649234089\n"
     ]
    },
    {
     "name": "stdout",
     "output_type": "stream",
     "text": [
      "condition skipped: less than 50% reject6\n",
      "condition skipped: less than 50% reject7\n",
      "condition skipped: less than 50% reject8\n",
      "condition skipped: less than 50% reject0\n",
      "fitting: sub 3, cond 1\n"
     ]
    },
    {
     "name": "stderr",
     "output_type": "stream",
     "text": [
      "Info: Params [-4.51278904  0.66703324  0.28834857] gave -105.30273865450607\n"
     ]
    },
    {
     "name": "stdout",
     "output_type": "stream",
     "text": [
      "fitting: sub 3, cond 2\n"
     ]
    },
    {
     "name": "stderr",
     "output_type": "stream",
     "text": [
      "Info: Params [-5.51263659  0.92658911  0.24595452] gave -110.39740359052873\n"
     ]
    },
    {
     "name": "stdout",
     "output_type": "stream",
     "text": [
      "condition skipped: less than 50% reject3\n",
      "condition skipped: less than 50% reject4\n",
      "fitting: sub 3, cond 5\n"
     ]
    },
    {
     "name": "stderr",
     "output_type": "stream",
     "text": [
      "Info: Params [-4.31472386  1.77798778  0.05665278] gave -47.00422278377279\n"
     ]
    },
    {
     "name": "stdout",
     "output_type": "stream",
     "text": [
      "condition skipped: less than 50% reject6\n",
      "condition skipped: less than 50% reject7\n",
      "condition skipped: less than 50% reject8\n",
      "condition skipped: less than 50% reject0\n",
      "fitting: sub 4, cond 1\n"
     ]
    },
    {
     "name": "stderr",
     "output_type": "stream",
     "text": [
      "Info: Params [-4.29052157  1.41196618  0.13622566] gave -55.480730986099196\n"
     ]
    },
    {
     "name": "stdout",
     "output_type": "stream",
     "text": [
      "fitting: sub 4, cond 2\n"
     ]
    },
    {
     "name": "stderr",
     "output_type": "stream",
     "text": [
      "Info: Params [-4.41001469  0.63112701  0.26931116] gave -101.44170806492131\n"
     ]
    },
    {
     "name": "stdout",
     "output_type": "stream",
     "text": [
      "condition skipped: less than 50% reject3\n",
      "condition skipped: less than 50% reject4\n",
      "fitting: sub 4, cond 5\n"
     ]
    },
    {
     "name": "stderr",
     "output_type": "stream",
     "text": [
      "Info: Params [-3.14519457  0.8412367   0.23560463] gave -48.323507469229284\n"
     ]
    },
    {
     "name": "stdout",
     "output_type": "stream",
     "text": [
      "condition skipped: less than 50% reject6\n",
      "condition skipped: less than 50% reject7\n",
      "condition skipped: less than 50% reject8\n",
      "condition skipped: less than 50% reject0\n",
      "fitting: sub 5, cond 1\n"
     ]
    },
    {
     "name": "stderr",
     "output_type": "stream",
     "text": [
      "Info: Params [-5.12324561e+00  2.13619607e+00  3.67221877e-04] gave -74.41859470063228\n"
     ]
    },
    {
     "name": "stdout",
     "output_type": "stream",
     "text": [
      "fitting: sub 5, cond 2\n"
     ]
    },
    {
     "name": "stderr",
     "output_type": "stream",
     "text": [
      "Info: Params [-10.           2.81084304   0.10039521] gave -172.0101324491825\n"
     ]
    },
    {
     "name": "stdout",
     "output_type": "stream",
     "text": [
      "condition skipped: less than 50% reject3\n",
      "condition skipped: less than 50% reject4\n",
      "fitting: sub 5, cond 5\n"
     ]
    },
    {
     "name": "stderr",
     "output_type": "stream",
     "text": [
      "Info: Params [-7.52787512e+00  3.07730236e+00  7.90768795e-05] gave -65.14026327450996\n"
     ]
    },
    {
     "name": "stdout",
     "output_type": "stream",
     "text": [
      "condition skipped: less than 50% reject6\n",
      "condition skipped: less than 50% reject7\n",
      "condition skipped: less than 50% reject8\n",
      "condition skipped: less than 50% reject0\n",
      "fitting: sub 6, cond 1\n"
     ]
    },
    {
     "name": "stderr",
     "output_type": "stream",
     "text": [
      "Info: Params [-6.72456535e+00  2.62029999e+00  9.54333999e-04] gave -68.34030685200908\n"
     ]
    },
    {
     "name": "stdout",
     "output_type": "stream",
     "text": [
      "fitting: sub 6, cond 2\n"
     ]
    },
    {
     "name": "stderr",
     "output_type": "stream",
     "text": [
      "Info: Params [-5.86162821e+00  2.01993731e+00  7.69974641e-04] gave -108.00667458162272\n"
     ]
    },
    {
     "name": "stdout",
     "output_type": "stream",
     "text": [
      "condition skipped: less than 50% reject3\n",
      "fitting: sub 6, cond 4\n"
     ]
    },
    {
     "name": "stderr",
     "output_type": "stream",
     "text": [
      "Info: Params [-2.13031020e+00  1.06320529e+00  4.52075855e-04] gave 9.466539226283645\n"
     ]
    },
    {
     "name": "stdout",
     "output_type": "stream",
     "text": [
      "fitting: sub 6, cond 5\n"
     ]
    },
    {
     "name": "stderr",
     "output_type": "stream",
     "text": [
      "Info: Params [-3.93542291e+00  1.51553300e+00  6.91290342e-04] gave -56.35347219602674\n"
     ]
    },
    {
     "name": "stdout",
     "output_type": "stream",
     "text": [
      "condition skipped: less than 50% reject6\n",
      "condition skipped: less than 50% reject7\n",
      "fitting: sub 6, cond 8\n"
     ]
    },
    {
     "name": "stderr",
     "output_type": "stream",
     "text": [
      "Info: Params [-2.99033465  1.37318629  0.07748674] gave -16.73432264046347\n"
     ]
    },
    {
     "name": "stdout",
     "output_type": "stream",
     "text": [
      "condition skipped: less than 50% reject0\n",
      "fitting: sub 7, cond 1\n"
     ]
    },
    {
     "name": "stderr",
     "output_type": "stream",
     "text": [
      "Info: Params [-4.91866175e+00  1.80526280e+00  8.39024406e-04] gave -94.08119983294584\n"
     ]
    },
    {
     "name": "stdout",
     "output_type": "stream",
     "text": [
      "fitting: sub 7, cond 2\n"
     ]
    },
    {
     "name": "stderr",
     "output_type": "stream",
     "text": [
      "Info: Params [-5.05416722e+00  1.62550487e+00  1.43707756e-04] gave -106.87485091059506\n"
     ]
    },
    {
     "name": "stdout",
     "output_type": "stream",
     "text": [
      "condition skipped: less than 50% reject3\n",
      "fitting: sub 7, cond 4\n"
     ]
    },
    {
     "name": "stderr",
     "output_type": "stream",
     "text": [
      "Info: Params [-2.48041835e+00  1.31176182e+00  6.99382528e-04] gave 3.34416331528555\n"
     ]
    },
    {
     "name": "stdout",
     "output_type": "stream",
     "text": [
      "fitting: sub 7, cond 5\n"
     ]
    },
    {
     "name": "stderr",
     "output_type": "stream",
     "text": [
      "Info: Params [-5.60851932e+00  2.00354155e+00  9.61898261e-05] gave -110.14289684638379\n"
     ]
    },
    {
     "name": "stdout",
     "output_type": "stream",
     "text": [
      "condition skipped: less than 50% reject6\n",
      "condition skipped: less than 50% reject7\n",
      "fitting: sub 7, cond 8\n"
     ]
    },
    {
     "name": "stderr",
     "output_type": "stream",
     "text": [
      "Info: Params [-3.83003593e+00  1.75706664e+00  9.29603053e-05] gave -41.478171790498905\n"
     ]
    },
    {
     "name": "stdout",
     "output_type": "stream",
     "text": [
      "condition skipped: less than 50% reject0\n",
      "fitting: sub 8, cond 1\n"
     ]
    },
    {
     "name": "stderr",
     "output_type": "stream",
     "text": [
      "Info: Params [-1.65553542e+00  1.59783480e+00  2.82381757e-04] gave 46.909018742200935\n"
     ]
    },
    {
     "name": "stdout",
     "output_type": "stream",
     "text": [
      "fitting: sub 8, cond 2\n"
     ]
    },
    {
     "name": "stderr",
     "output_type": "stream",
     "text": [
      "Info: Params [-2.13644545e+00  1.54340861e+00  9.84072628e-05] gave 24.42319812266151\n"
     ]
    },
    {
     "name": "stdout",
     "output_type": "stream",
     "text": [
      "condition skipped: less than 50% reject3\n",
      "condition skipped: less than 50% reject4\n",
      "fitting: sub 8, cond 5\n"
     ]
    },
    {
     "name": "stderr",
     "output_type": "stream",
     "text": [
      "Info: Params [-1.03705027e+00  1.16424261e+00  2.15173690e-04] gave 74.44427993931285\n"
     ]
    },
    {
     "name": "stdout",
     "output_type": "stream",
     "text": [
      "condition skipped: less than 50% reject6\n",
      "condition skipped: less than 50% reject7\n",
      "fitting: sub 8, cond 8\n"
     ]
    },
    {
     "name": "stderr",
     "output_type": "stream",
     "text": [
      "Info: Params [-9.90592502e-01  1.51793228e+00  7.86529218e-04] gave 67.53136269649364\n"
     ]
    },
    {
     "name": "stdout",
     "output_type": "stream",
     "text": [
      "condition skipped: less than 50% reject0\n",
      "fitting: sub 9, cond 1\n"
     ]
    },
    {
     "name": "stderr",
     "output_type": "stream",
     "text": [
      "Info: Params [-2.30103799e+00  1.40982217e+00  4.55644622e-04] gave 12.401607464722412\n"
     ]
    },
    {
     "name": "stdout",
     "output_type": "stream",
     "text": [
      "fitting: sub 9, cond 2\n"
     ]
    },
    {
     "name": "stderr",
     "output_type": "stream",
     "text": [
      "Info: Params [-3.14512018  0.79689486  0.21403501] gave -57.87289933724867\n"
     ]
    },
    {
     "name": "stdout",
     "output_type": "stream",
     "text": [
      "condition skipped: less than 50% reject3\n",
      "condition skipped: less than 50% reject4\n",
      "fitting: sub 9, cond 5\n"
     ]
    },
    {
     "name": "stderr",
     "output_type": "stream",
     "text": [
      "Info: Params [-1.72395795  1.49700396  0.00539215] gave 38.38992135293713\n"
     ]
    },
    {
     "name": "stdout",
     "output_type": "stream",
     "text": [
      "condition skipped: less than 50% reject6\n",
      "condition skipped: less than 50% reject7\n",
      "fitting: sub 9, cond 8\n"
     ]
    },
    {
     "name": "stderr",
     "output_type": "stream",
     "text": [
      "Info: Params [-1.52869108e+00  1.24503753e+00  7.42804021e-04] gave 29.775151543796287\n"
     ]
    },
    {
     "name": "stdout",
     "output_type": "stream",
     "text": [
      "condition skipped: less than 50% reject0\n",
      "fitting: sub 10, cond 1\n"
     ]
    },
    {
     "name": "stderr",
     "output_type": "stream",
     "text": [
      "Info: Params [-3.29229355  1.05535254  0.11819272] gave -57.45765004475974\n"
     ]
    },
    {
     "name": "stdout",
     "output_type": "stream",
     "text": [
      "fitting: sub 10, cond 2\n"
     ]
    },
    {
     "name": "stderr",
     "output_type": "stream",
     "text": [
      "Info: Params [-6.57738144  1.37735508  0.15351376] gave -138.1046507249195\n"
     ]
    },
    {
     "name": "stdout",
     "output_type": "stream",
     "text": [
      "condition skipped: less than 50% reject3\n",
      "condition skipped: less than 50% reject4\n",
      "fitting: sub 10, cond 5\n"
     ]
    },
    {
     "name": "stderr",
     "output_type": "stream",
     "text": [
      "Info: Params [-2.35612847  0.85101214  0.16905805] gave -18.362865458203125\n"
     ]
    },
    {
     "name": "stdout",
     "output_type": "stream",
     "text": [
      "condition skipped: less than 50% reject6\n",
      "condition skipped: less than 50% reject7\n",
      "fitting: sub 10, cond 8\n"
     ]
    },
    {
     "name": "stderr",
     "output_type": "stream",
     "text": [
      "Info: Params [-1.43024244  1.14285904  0.02424719] gave 39.672070472113624\n"
     ]
    },
    {
     "name": "stdout",
     "output_type": "stream",
     "text": [
      "condition skipped: less than 50% reject0\n",
      "fitting: sub 11, cond 1\n"
     ]
    },
    {
     "name": "stderr",
     "output_type": "stream",
     "text": [
      "Info: Params [-4.20672126  0.95541925  0.16872485] gave -48.855809622610806\n"
     ]
    },
    {
     "name": "stdout",
     "output_type": "stream",
     "text": [
      "fitting: sub 11, cond 2\n"
     ]
    },
    {
     "name": "stderr",
     "output_type": "stream",
     "text": [
      "Info: Params [-2.85563663  0.6080312   0.2366657 ] gave -35.61091873280626\n"
     ]
    },
    {
     "name": "stdout",
     "output_type": "stream",
     "text": [
      "condition skipped: less than 50% reject3\n",
      "condition skipped: less than 50% reject4\n",
      "fitting: sub 11, cond 5\n"
     ]
    },
    {
     "name": "stderr",
     "output_type": "stream",
     "text": [
      "Info: Params [-2.98891746  0.67605224  0.23888469] gave -29.605577620021247\n"
     ]
    },
    {
     "name": "stdout",
     "output_type": "stream",
     "text": [
      "condition skipped: less than 50% reject6\n",
      "condition skipped: less than 50% reject7\n",
      "fitting: sub 11, cond 8\n"
     ]
    },
    {
     "name": "stderr",
     "output_type": "stream",
     "text": [
      "Info: Params [-2.03028558  1.15045535  0.01248023] gave 5.774792083299159\n"
     ]
    },
    {
     "name": "stdout",
     "output_type": "stream",
     "text": [
      "condition skipped: less than 50% reject0\n",
      "fitting: sub 12, cond 1\n"
     ]
    },
    {
     "name": "stderr",
     "output_type": "stream",
     "text": [
      "Info: Params [-3.0790837   0.70668542  0.20664598] gave -60.958752545367624\n"
     ]
    },
    {
     "name": "stdout",
     "output_type": "stream",
     "text": [
      "fitting: sub 12, cond 2\n"
     ]
    },
    {
     "name": "stderr",
     "output_type": "stream",
     "text": [
      "Info: Params [-3.54785413  0.8335345   0.1634234 ] gave -67.2158966476452\n"
     ]
    },
    {
     "name": "stdout",
     "output_type": "stream",
     "text": [
      "condition skipped: less than 50% reject3\n",
      "condition skipped: less than 50% reject4\n",
      "fitting: sub 12, cond 5\n"
     ]
    },
    {
     "name": "stderr",
     "output_type": "stream",
     "text": [
      "Info: Params [-3.64958269  0.95309119  0.16608789] gave -58.301849496877615\n"
     ]
    },
    {
     "name": "stdout",
     "output_type": "stream",
     "text": [
      "condition skipped: less than 50% reject6\n",
      "condition skipped: less than 50% reject7\n",
      "fitting: sub 12, cond 8\n"
     ]
    },
    {
     "name": "stderr",
     "output_type": "stream",
     "text": [
      "Info: Params [-3.68803876e+00  1.53058593e+00  5.55569692e-04] gave -30.52786639187626\n"
     ]
    },
    {
     "name": "stdout",
     "output_type": "stream",
     "text": [
      "condition skipped: less than 50% reject0\n",
      "fitting: sub 13, cond 1\n"
     ]
    },
    {
     "name": "stderr",
     "output_type": "stream",
     "text": [
      "Info: Params [-3.22971203  0.68010269  0.18562938] gave -62.33143520352525\n"
     ]
    },
    {
     "name": "stdout",
     "output_type": "stream",
     "text": [
      "fitting: sub 13, cond 2\n"
     ]
    },
    {
     "name": "stderr",
     "output_type": "stream",
     "text": [
      "Info: Params [-6.53175662e+00  2.22216784e+00  1.29298585e-03] gave -85.21132678030482\n"
     ]
    },
    {
     "name": "stdout",
     "output_type": "stream",
     "text": [
      "condition skipped: less than 50% reject3\n",
      "fitting: sub 13, cond 4\n"
     ]
    },
    {
     "name": "stderr",
     "output_type": "stream",
     "text": [
      "Info: Params [-1.85401017  0.8521548   0.15255423] gave 5.330175367740706\n"
     ]
    },
    {
     "name": "stdout",
     "output_type": "stream",
     "text": [
      "fitting: sub 13, cond 5\n"
     ]
    },
    {
     "name": "stderr",
     "output_type": "stream",
     "text": [
      "Info: Params [-10.           2.44129778   0.10516189] gave -124.46167841288253\n"
     ]
    },
    {
     "name": "stdout",
     "output_type": "stream",
     "text": [
      "condition skipped: less than 50% reject6\n",
      "condition skipped: less than 50% reject7\n",
      "fitting: sub 13, cond 8\n"
     ]
    },
    {
     "name": "stderr",
     "output_type": "stream",
     "text": [
      "Info: Params [-7.38863848e+00  2.60604843e+00  1.61390161e-03] gave -84.411904651221\n"
     ]
    },
    {
     "name": "stdout",
     "output_type": "stream",
     "text": [
      "condition skipped: less than 50% reject0\n",
      "fitting: sub 14, cond 1\n"
     ]
    },
    {
     "name": "stderr",
     "output_type": "stream",
     "text": [
      "Info: Params [-4.80146771  1.46373978  0.0647989 ] gave -70.46999541771655\n"
     ]
    },
    {
     "name": "stdout",
     "output_type": "stream",
     "text": [
      "fitting: sub 14, cond 2\n"
     ]
    },
    {
     "name": "stderr",
     "output_type": "stream",
     "text": [
      "Info: Params [-3.54862975e+00  1.33356607e+00  1.69457689e-04] gave -38.8703348484283\n"
     ]
    },
    {
     "name": "stdout",
     "output_type": "stream",
     "text": [
      "condition skipped: less than 50% reject3\n",
      "fitting: sub 14, cond 4\n"
     ]
    },
    {
     "name": "stderr",
     "output_type": "stream",
     "text": [
      "Info: Params [-3.02277861  1.0779333   0.06795111] gave -23.671681428912045\n"
     ]
    },
    {
     "name": "stdout",
     "output_type": "stream",
     "text": [
      "fitting: sub 14, cond 5\n"
     ]
    },
    {
     "name": "stderr",
     "output_type": "stream",
     "text": [
      "Info: Params [-3.25046782  0.60746257  0.22506427] gave -68.25581183913339\n"
     ]
    },
    {
     "name": "stdout",
     "output_type": "stream",
     "text": [
      "condition skipped: less than 50% reject6\n",
      "condition skipped: less than 50% reject7\n",
      "fitting: sub 14, cond 8\n"
     ]
    },
    {
     "name": "stderr",
     "output_type": "stream",
     "text": [
      "Info: Params [-4.96774083e+00  1.97928044e+00  7.80142999e-04] gave -53.945155129038625\n"
     ]
    },
    {
     "name": "stdout",
     "output_type": "stream",
     "text": [
      "condition skipped: less than 50% reject0\n",
      "fitting: sub 15, cond 1\n"
     ]
    },
    {
     "name": "stderr",
     "output_type": "stream",
     "text": [
      "Info: Params [-4.99965596  0.85588374  0.17825594] gave -131.31693979336637\n"
     ]
    },
    {
     "name": "stdout",
     "output_type": "stream",
     "text": [
      "fitting: sub 15, cond 2\n"
     ]
    },
    {
     "name": "stderr",
     "output_type": "stream",
     "text": [
      "Info: Params [-5.75939199  1.33086512  0.1019964 ] gave -122.09573759902928\n"
     ]
    },
    {
     "name": "stdout",
     "output_type": "stream",
     "text": [
      "condition skipped: less than 50% reject3\n",
      "fitting: sub 15, cond 4\n"
     ]
    },
    {
     "name": "stderr",
     "output_type": "stream",
     "text": [
      "Info: Params [-2.50310014  0.67637347  0.20428724] gave -30.631122141000183\n"
     ]
    },
    {
     "name": "stdout",
     "output_type": "stream",
     "text": [
      "fitting: sub 15, cond 5\n"
     ]
    },
    {
     "name": "stderr",
     "output_type": "stream",
     "text": [
      "Info: Params [-4.19070117  0.55285162  0.24112933] gave -132.0176580099852\n"
     ]
    },
    {
     "name": "stdout",
     "output_type": "stream",
     "text": [
      "condition skipped: less than 50% reject6\n",
      "condition skipped: less than 50% reject7\n",
      "fitting: sub 15, cond 8\n"
     ]
    },
    {
     "name": "stderr",
     "output_type": "stream",
     "text": [
      "Info: Params [-4.45196532e+00  1.82020358e+00  8.02199027e-04] gave -60.645031873155176\n"
     ]
    },
    {
     "name": "stdout",
     "output_type": "stream",
     "text": [
      "(63, 5)\n"
     ]
    }
   ],
   "source": [
    "nparam = 3\n",
    "out = np.zeros((0, nparam + 2))\n",
    "\n",
    "for si in range(16):\n",
    "    for ci in range(9):\n",
    "        tid_s = df[\"session\"] == si + 1\n",
    "        tid_c = df[\"condition\"] == ci + 1\n",
    "        tdf = df[np.array(tid_s) & np.array(tid_c)]\n",
    "        tid = tdf['choice'] == 0\n",
    "        if (np.mean(tid) > 0.5):\n",
    "            print(f'fitting: sub {si}, cond {ci}')\n",
    "            tdf = tdf[tid]\n",
    "            sp = Sample.from_pandas_dataframe(tdf, rt_column_name=\"rt_reject\", correct_column_name=\"choice\")\n",
    "            model_wv = Model(name='WV',\n",
    "                            drift=DriftConstant(drift=Fittable(minval=-10, maxval=10)),\n",
    "                            # noise=NoiseConstant(noise=Fittable(minval=.1, maxval=5.0)),\n",
    "                            noise = NoiseConstant(noise = 1.0),\n",
    "                            bound=BoundConstant(B=Fittable(minval=.1, maxval=5.0)),\n",
    "                            overlay=OverlayNonDecision(nondectime=Fittable(minval=0, maxval=.4)),\n",
    "                            dx=.001, dt=.001, T_dur=5)\n",
    "            # print(model_wv.has_analytical_solution())\n",
    "            fit_model_wv = fit_adjust_model(sample = sp, model = model_wv, verbose = False,\n",
    "                lossfunction=LossRobustLikelihood)\n",
    "            tresult = fit_model_wv.get_model_parameters()\n",
    "            tresult = np.hstack((np.array([si, ci]), np.array(tresult)))\n",
    "            out = np.vstack((out,tresult.reshape((1,nparam + 2))))\n",
    "        else:\n",
    "            print(f'condition skipped: less than 50% reject{ci}')\n",
    "\n",
    "print(out.shape)"
   ]
  },
  {
   "cell_type": "code",
   "execution_count": 8,
   "metadata": {},
   "outputs": [],
   "source": [
    "# save data\n",
    "outdf = pandas.DataFrame(out, columns = ['sessionID', 'condition', 'drift', 'bound', 'nonDT'])\n",
    "outdf.to_csv('./Temp/fit_ddm_v1_vanilla.csv', sep  =',')"
   ]
  },
  {
   "cell_type": "code",
   "execution_count": 9,
   "metadata": {},
   "outputs": [
    {
     "name": "stdout",
     "output_type": "stream",
     "text": [
      "condition skipped: less than 50% reject0\n",
      "fitting: sub 0, cond 1\n"
     ]
    },
    {
     "name": "stderr",
     "output_type": "stream",
     "text": [
      "Info: Params [-3.06532051  1.35690489  0.1         0.18765844] gave -18.00548054303484\n"
     ]
    },
    {
     "name": "stdout",
     "output_type": "stream",
     "text": [
      "fitting: sub 0, cond 2\n"
     ]
    },
    {
     "name": "stderr",
     "output_type": "stream",
     "text": [
      "Info: Params [-3.17715861  1.26758429  0.1         0.16979266] gave -26.134918020573224\n"
     ]
    },
    {
     "name": "stdout",
     "output_type": "stream",
     "text": [
      "condition skipped: less than 50% reject3\n",
      "condition skipped: less than 50% reject4\n",
      "fitting: sub 0, cond 5\n"
     ]
    },
    {
     "name": "stderr",
     "output_type": "stream",
     "text": [
      "Info: Params [-4.15912704e+00  2.59236039e+00  4.79651458e-01  1.53498458e-03] gave -27.72612491379325\n"
     ]
    },
    {
     "name": "stdout",
     "output_type": "stream",
     "text": [
      "condition skipped: less than 50% reject6\n",
      "condition skipped: less than 50% reject7\n",
      "condition skipped: less than 50% reject8\n",
      "condition skipped: less than 50% reject0\n",
      "fitting: sub 1, cond 1\n"
     ]
    },
    {
     "name": "stderr",
     "output_type": "stream",
     "text": [
      "Info: Params [-3.22661097  0.72737788  0.1         0.29376031] gave -59.95393121938265\n"
     ]
    },
    {
     "name": "stdout",
     "output_type": "stream",
     "text": [
      "fitting: sub 1, cond 2\n"
     ]
    },
    {
     "name": "stderr",
     "output_type": "stream",
     "text": [
      "Info: Params [-4.39398199  0.65819958  0.1         0.29580794] gave -98.12337492157417\n"
     ]
    },
    {
     "name": "stdout",
     "output_type": "stream",
     "text": [
      "condition skipped: less than 50% reject3\n",
      "condition skipped: less than 50% reject4\n",
      "fitting: sub 1, cond 5\n"
     ]
    },
    {
     "name": "stderr",
     "output_type": "stream",
     "text": [
      "Info: Params [-3.47786832  0.67054367  0.1         0.31711023] gave -64.57235372284396\n"
     ]
    },
    {
     "name": "stdout",
     "output_type": "stream",
     "text": [
      "condition skipped: less than 50% reject6\n",
      "condition skipped: less than 50% reject7\n",
      "condition skipped: less than 50% reject8\n",
      "condition skipped: less than 50% reject0\n",
      "fitting: sub 2, cond 1\n"
     ]
    },
    {
     "name": "stderr",
     "output_type": "stream",
     "text": [
      "Info: Params [-3.51383826  0.90697757  0.1         0.25079087] gave -72.14953573048712\n"
     ]
    },
    {
     "name": "stdout",
     "output_type": "stream",
     "text": [
      "fitting: sub 2, cond 2\n"
     ]
    },
    {
     "name": "stderr",
     "output_type": "stream",
     "text": [
      "Info: Params [-3.71437035  0.68108599  0.1         0.29014292] gave -94.33582905494985\n"
     ]
    },
    {
     "name": "stdout",
     "output_type": "stream",
     "text": [
      "condition skipped: less than 50% reject3\n",
      "condition skipped: less than 50% reject4\n",
      "fitting: sub 2, cond 5\n"
     ]
    },
    {
     "name": "stderr",
     "output_type": "stream",
     "text": [
      "Info: Params [-3.75092963  0.69623986  0.1         0.32343382] gave -89.84858919045482\n"
     ]
    },
    {
     "name": "stdout",
     "output_type": "stream",
     "text": [
      "condition skipped: less than 50% reject6\n",
      "condition skipped: less than 50% reject7\n",
      "condition skipped: less than 50% reject8\n",
      "condition skipped: less than 50% reject0\n",
      "fitting: sub 3, cond 1\n"
     ]
    },
    {
     "name": "stderr",
     "output_type": "stream",
     "text": [
      "Info: Params [-4.60376734  0.72818799  0.1         0.28160348] gave -105.2260315104983\n"
     ]
    },
    {
     "name": "stdout",
     "output_type": "stream",
     "text": [
      "fitting: sub 3, cond 2\n"
     ]
    },
    {
     "name": "stderr",
     "output_type": "stream",
     "text": [
      "Info: Params [-5.5209875   0.97334936  0.1         0.24079049] gave -110.30271832214838\n"
     ]
    },
    {
     "name": "stdout",
     "output_type": "stream",
     "text": [
      "condition skipped: less than 50% reject3\n",
      "condition skipped: less than 50% reject4\n",
      "fitting: sub 3, cond 5\n"
     ]
    },
    {
     "name": "stderr",
     "output_type": "stream",
     "text": [
      "Info: Params [-3.99886365  1.74987115  0.28917273  0.06003584] gave -46.99069859770525\n"
     ]
    },
    {
     "name": "stdout",
     "output_type": "stream",
     "text": [
      "condition skipped: less than 50% reject6\n",
      "condition skipped: less than 50% reject7\n",
      "condition skipped: less than 50% reject8\n",
      "condition skipped: less than 50% reject0\n",
      "fitting: sub 4, cond 1\n"
     ]
    },
    {
     "name": "stderr",
     "output_type": "stream",
     "text": [
      "Info: Params [-4.23598821  1.50273143  0.16947468  0.12417631] gave -55.496404594573335\n"
     ]
    },
    {
     "name": "stdout",
     "output_type": "stream",
     "text": [
      "fitting: sub 4, cond 2\n"
     ]
    },
    {
     "name": "stderr",
     "output_type": "stream",
     "text": [
      "Info: Params [-4.38001593  0.65024419  0.1         0.26776469] gave -101.19331074428942\n"
     ]
    },
    {
     "name": "stdout",
     "output_type": "stream",
     "text": [
      "condition skipped: less than 50% reject3\n",
      "condition skipped: less than 50% reject4\n",
      "fitting: sub 4, cond 5\n"
     ]
    },
    {
     "name": "stderr",
     "output_type": "stream",
     "text": [
      "Info: Params [-3.1620282   0.89858274  0.1         0.22768549] gave -47.39162054661989\n"
     ]
    },
    {
     "name": "stdout",
     "output_type": "stream",
     "text": [
      "condition skipped: less than 50% reject6\n",
      "condition skipped: less than 50% reject7\n",
      "condition skipped: less than 50% reject8\n",
      "condition skipped: less than 50% reject0\n",
      "fitting: sub 5, cond 1\n"
     ]
    },
    {
     "name": "stderr",
     "output_type": "stream",
     "text": [
      "Info: Params [-4.76348362e+00  2.13606084e+00  3.59338955e-01  7.97978843e-04] gave -74.41681329231308\n"
     ]
    },
    {
     "name": "stdout",
     "output_type": "stream",
     "text": [
      "fitting: sub 5, cond 2\n"
     ]
    },
    {
     "name": "stderr",
     "output_type": "stream",
     "text": [
      "Info: Params [-10.           3.22171973   1.           0.08772819] gave -173.64856669845636\n"
     ]
    },
    {
     "name": "stdout",
     "output_type": "stream",
     "text": [
      "condition skipped: less than 50% reject3\n",
      "condition skipped: less than 50% reject4\n",
      "fitting: sub 5, cond 5\n"
     ]
    },
    {
     "name": "stderr",
     "output_type": "stream",
     "text": [
      "Info: Params [-7.19882516e+00  3.06665111e+00  3.20969466e-01  1.69561449e-03] gave -65.13633436089073\n"
     ]
    },
    {
     "name": "stdout",
     "output_type": "stream",
     "text": [
      "condition skipped: less than 50% reject6\n",
      "condition skipped: less than 50% reject7\n",
      "condition skipped: less than 50% reject8\n",
      "condition skipped: less than 50% reject0\n",
      "fitting: sub 6, cond 1\n"
     ]
    },
    {
     "name": "stderr",
     "output_type": "stream",
     "text": [
      "Info: Params [-4.14209160e+00  1.71159068e+00  2.84870972e-01  3.94244721e-04] gave -69.49814783630599\n"
     ]
    },
    {
     "name": "stdout",
     "output_type": "stream",
     "text": [
      "fitting: sub 6, cond 2\n"
     ]
    },
    {
     "name": "stderr",
     "output_type": "stream",
     "text": [
      "Info: Params [-5.29957937e+00  2.01993698e+00  5.62048376e-01  3.82991800e-04] gave -108.0066745806837\n"
     ]
    },
    {
     "name": "stdout",
     "output_type": "stream",
     "text": [
      "condition skipped: less than 50% reject3\n",
      "fitting: sub 6, cond 4\n"
     ]
    },
    {
     "name": "stderr",
     "output_type": "stream",
     "text": [
      "Info: Params [-2.04836759e+00  1.07221736e+00  1.00000000e-01  4.13879322e-04] gave 9.618530161824234\n"
     ]
    },
    {
     "name": "stdout",
     "output_type": "stream",
     "text": [
      "fitting: sub 6, cond 5\n"
     ]
    },
    {
     "name": "stderr",
     "output_type": "stream",
     "text": [
      "Info: Params [-3.69551442e+00  1.51850923e+00  2.47912223e-01  8.05224551e-04] gave -56.353618355207246\n"
     ]
    },
    {
     "name": "stdout",
     "output_type": "stream",
     "text": [
      "condition skipped: less than 50% reject6\n",
      "condition skipped: less than 50% reject7\n",
      "fitting: sub 6, cond 8\n"
     ]
    },
    {
     "name": "stderr",
     "output_type": "stream",
     "text": [
      "Info: Params [-2.9969587   1.48099162  0.1         0.05817105] gave -16.587906296982744\n"
     ]
    },
    {
     "name": "stdout",
     "output_type": "stream",
     "text": [
      "condition skipped: less than 50% reject0\n",
      "fitting: sub 7, cond 1\n"
     ]
    },
    {
     "name": "stderr",
     "output_type": "stream",
     "text": [
      "Info: Params [-4.73863186e+00  1.80508225e+00  1.79381713e-01  3.78514095e-04] gave -94.08119810447097\n"
     ]
    },
    {
     "name": "stdout",
     "output_type": "stream",
     "text": [
      "fitting: sub 7, cond 2\n"
     ]
    },
    {
     "name": "stderr",
     "output_type": "stream",
     "text": [
      "Info: Params [-4.73050334e+00  1.62554599e+00  3.23688928e-01  4.94123532e-05] gave -106.87444782714068\n"
     ]
    },
    {
     "name": "stdout",
     "output_type": "stream",
     "text": [
      "condition skipped: less than 50% reject3\n",
      "fitting: sub 7, cond 4\n"
     ]
    },
    {
     "name": "stderr",
     "output_type": "stream",
     "text": [
      "Info: Params [-2.39927737e+00  1.32173549e+00  1.00000000e-01  5.91371867e-04] gave 3.5712030932133705\n"
     ]
    },
    {
     "name": "stdout",
     "output_type": "stream",
     "text": [
      "fitting: sub 7, cond 5\n"
     ]
    },
    {
     "name": "stderr",
     "output_type": "stream",
     "text": [
      "Info: Params [-4.63885926e+00  2.00467908e+00  9.73867928e-01  2.22429128e-05] gave -110.14296074852193\n"
     ]
    },
    {
     "name": "stdout",
     "output_type": "stream",
     "text": [
      "condition skipped: less than 50% reject6\n",
      "condition skipped: less than 50% reject7\n",
      "fitting: sub 7, cond 8\n"
     ]
    },
    {
     "name": "stderr",
     "output_type": "stream",
     "text": [
      "Info: Params [-3.62718155e+00  1.75711340e+00  2.02942521e-01  4.47378818e-04] gave -41.47795531322966\n"
     ]
    },
    {
     "name": "stdout",
     "output_type": "stream",
     "text": [
      "condition skipped: less than 50% reject0\n",
      "fitting: sub 8, cond 1\n"
     ]
    },
    {
     "name": "stderr",
     "output_type": "stream",
     "text": [
      "Info: Params [-1.57445835e+00  1.61609855e+00  1.00000000e-01  7.28811919e-05] gave 47.13306453167407\n"
     ]
    },
    {
     "name": "stdout",
     "output_type": "stream",
     "text": [
      "fitting: sub 8, cond 2\n"
     ]
    },
    {
     "name": "stderr",
     "output_type": "stream",
     "text": [
      "Info: Params [-2.04776811e+00  1.55158829e+00  1.00000000e-01  5.78793552e-04] gave 24.526350977190354\n"
     ]
    },
    {
     "name": "stdout",
     "output_type": "stream",
     "text": [
      "condition skipped: less than 50% reject3\n",
      "condition skipped: less than 50% reject4\n",
      "fitting: sub 8, cond 5\n"
     ]
    },
    {
     "name": "stderr",
     "output_type": "stream",
     "text": [
      "Info: Params [-9.91470430e-01  1.22533751e+00  1.00000000e-01  7.90157620e-04] gave 77.38853978390406\n"
     ]
    },
    {
     "name": "stdout",
     "output_type": "stream",
     "text": [
      "condition skipped: less than 50% reject6\n",
      "condition skipped: less than 50% reject7\n",
      "fitting: sub 8, cond 8\n"
     ]
    },
    {
     "name": "stderr",
     "output_type": "stream",
     "text": [
      "Info: Params [-9.30712931e-01  1.57941075e+00  1.00000000e-01  5.64826421e-04] gave 68.68592942626161\n"
     ]
    },
    {
     "name": "stdout",
     "output_type": "stream",
     "text": [
      "condition skipped: less than 50% reject0\n",
      "fitting: sub 9, cond 1\n"
     ]
    },
    {
     "name": "stderr",
     "output_type": "stream",
     "text": [
      "Info: Params [-2.21323386e+00  1.41729404e+00  1.00000000e-01  1.44915692e-04] gave 12.510213113574396\n"
     ]
    },
    {
     "name": "stdout",
     "output_type": "stream",
     "text": [
      "fitting: sub 9, cond 2\n"
     ]
    },
    {
     "name": "stderr",
     "output_type": "stream",
     "text": [
      "Info: Params [-3.08565318  0.80716456  0.1         0.21433035] gave -57.320050572616026\n"
     ]
    },
    {
     "name": "stdout",
     "output_type": "stream",
     "text": [
      "condition skipped: less than 50% reject3\n",
      "condition skipped: less than 50% reject4\n",
      "fitting: sub 9, cond 5\n"
     ]
    },
    {
     "name": "stderr",
     "output_type": "stream",
     "text": [
      "Info: Params [-1.65809928  1.52840877  0.1         0.00478424] gave 38.89081551966696\n"
     ]
    },
    {
     "name": "stdout",
     "output_type": "stream",
     "text": [
      "condition skipped: less than 50% reject6\n",
      "condition skipped: less than 50% reject7\n",
      "fitting: sub 9, cond 8\n"
     ]
    },
    {
     "name": "stderr",
     "output_type": "stream",
     "text": [
      "Info: Params [-1.49108475e+00  1.29585390e+00  1.00000000e-01  2.86234361e-04] gave 31.101539863647968\n"
     ]
    },
    {
     "name": "stdout",
     "output_type": "stream",
     "text": [
      "condition skipped: less than 50% reject0\n",
      "fitting: sub 10, cond 1\n"
     ]
    },
    {
     "name": "stderr",
     "output_type": "stream",
     "text": [
      "Info: Params [-3.22349415  1.06534379  0.1         0.11880343] gave -57.049426779862266\n"
     ]
    },
    {
     "name": "stdout",
     "output_type": "stream",
     "text": [
      "fitting: sub 10, cond 2\n"
     ]
    },
    {
     "name": "stderr",
     "output_type": "stream",
     "text": [
      "Info: Params [-6.20065027  1.32232218  0.26786365  0.15835668] gave -138.10889224737846\n"
     ]
    },
    {
     "name": "stdout",
     "output_type": "stream",
     "text": [
      "condition skipped: less than 50% reject3\n",
      "condition skipped: less than 50% reject4\n",
      "fitting: sub 10, cond 5\n"
     ]
    },
    {
     "name": "stderr",
     "output_type": "stream",
     "text": [
      "Info: Params [-2.39331134  0.9454399   0.1         0.15182439] gave -15.958285528713281\n"
     ]
    },
    {
     "name": "stdout",
     "output_type": "stream",
     "text": [
      "condition skipped: less than 50% reject6\n",
      "condition skipped: less than 50% reject7\n",
      "fitting: sub 10, cond 8\n"
     ]
    },
    {
     "name": "stderr",
     "output_type": "stream",
     "text": [
      "Info: Params [-1.43292796e+00  1.26170142e+00  1.00000000e-01  6.97115596e-04] gave 43.32626605227711\n"
     ]
    },
    {
     "name": "stdout",
     "output_type": "stream",
     "text": [
      "condition skipped: less than 50% reject0\n",
      "fitting: sub 11, cond 1\n"
     ]
    },
    {
     "name": "stderr",
     "output_type": "stream",
     "text": [
      "Info: Params [-4.09466209  0.94463305  0.1         0.17028311] gave -48.81936605053994\n"
     ]
    },
    {
     "name": "stdout",
     "output_type": "stream",
     "text": [
      "fitting: sub 11, cond 2\n"
     ]
    },
    {
     "name": "stderr",
     "output_type": "stream",
     "text": [
      "Info: Params [-2.83618095  0.63986118  0.1         0.2311013 ] gave -34.93313059790849\n"
     ]
    },
    {
     "name": "stdout",
     "output_type": "stream",
     "text": [
      "condition skipped: less than 50% reject3\n",
      "condition skipped: less than 50% reject4\n",
      "fitting: sub 11, cond 5\n"
     ]
    },
    {
     "name": "stderr",
     "output_type": "stream",
     "text": [
      "Info: Params [-3.00905622  0.74053381  0.1         0.22637184] gave -29.131640744613307\n"
     ]
    },
    {
     "name": "stdout",
     "output_type": "stream",
     "text": [
      "condition skipped: less than 50% reject6\n",
      "condition skipped: less than 50% reject7\n",
      "fitting: sub 11, cond 8\n"
     ]
    },
    {
     "name": "stderr",
     "output_type": "stream",
     "text": [
      "Info: Params [-2.0062199   1.21454557  0.1         0.00272192] gave 6.301427984736692\n"
     ]
    },
    {
     "name": "stdout",
     "output_type": "stream",
     "text": [
      "condition skipped: less than 50% reject0\n",
      "fitting: sub 12, cond 1\n"
     ]
    },
    {
     "name": "stderr",
     "output_type": "stream",
     "text": [
      "Info: Params [-3.09734855  0.74981262  0.1         0.20180868] gave -59.15419868959072\n"
     ]
    },
    {
     "name": "stdout",
     "output_type": "stream",
     "text": [
      "fitting: sub 12, cond 2\n"
     ]
    },
    {
     "name": "stderr",
     "output_type": "stream",
     "text": [
      "Info: Params [-3.4942446   0.85179748  0.1         0.16114677] gave -66.94542252217943\n"
     ]
    },
    {
     "name": "stdout",
     "output_type": "stream",
     "text": [
      "condition skipped: less than 50% reject3\n",
      "condition skipped: less than 50% reject4\n",
      "fitting: sub 12, cond 5\n"
     ]
    },
    {
     "name": "stderr",
     "output_type": "stream",
     "text": [
      "Info: Params [-3.56607462  0.95374339  0.1         0.16700724] gave -58.0677589812806\n"
     ]
    },
    {
     "name": "stdout",
     "output_type": "stream",
     "text": [
      "condition skipped: less than 50% reject6\n",
      "condition skipped: less than 50% reject7\n",
      "fitting: sub 12, cond 8\n"
     ]
    },
    {
     "name": "stderr",
     "output_type": "stream",
     "text": [
      "Info: Params [-3.58805335e+00  1.53059198e+00  1.00000000e-01  4.10168635e-04] gave -30.527843432509496\n"
     ]
    },
    {
     "name": "stdout",
     "output_type": "stream",
     "text": [
      "condition skipped: less than 50% reject0\n",
      "fitting: sub 13, cond 1\n"
     ]
    },
    {
     "name": "stderr",
     "output_type": "stream",
     "text": [
      "Info: Params [-3.30276153  0.74716791  0.1         0.17655123] gave -60.13648238659868\n"
     ]
    },
    {
     "name": "stdout",
     "output_type": "stream",
     "text": [
      "fitting: sub 13, cond 2\n"
     ]
    },
    {
     "name": "stderr",
     "output_type": "stream",
     "text": [
      "Info: Params [-6.31219781  2.14042429  0.12997267  0.00994212] gave -85.18411144334956\n"
     ]
    },
    {
     "name": "stdout",
     "output_type": "stream",
     "text": [
      "condition skipped: less than 50% reject3\n",
      "fitting: sub 13, cond 4\n"
     ]
    },
    {
     "name": "stderr",
     "output_type": "stream",
     "text": [
      "Info: Params [-1.91496451  1.02285301  0.1         0.10479909] gave 8.369824392253706\n"
     ]
    },
    {
     "name": "stdout",
     "output_type": "stream",
     "text": [
      "fitting: sub 13, cond 5\n"
     ]
    },
    {
     "name": "stderr",
     "output_type": "stream",
     "text": [
      "Info: Params [-9.69175277  2.67220172  0.75375259  0.09388228] gave -124.50763498209982\n"
     ]
    },
    {
     "name": "stdout",
     "output_type": "stream",
     "text": [
      "condition skipped: less than 50% reject6\n",
      "condition skipped: less than 50% reject7\n",
      "fitting: sub 13, cond 8\n"
     ]
    },
    {
     "name": "stderr",
     "output_type": "stream",
     "text": [
      "Info: Params [-7.07915745e+00  2.62346803e+00  3.39133748e-01  1.54475816e-04] gave -84.4421622501485\n"
     ]
    },
    {
     "name": "stdout",
     "output_type": "stream",
     "text": [
      "condition skipped: less than 50% reject0\n",
      "fitting: sub 14, cond 1\n"
     ]
    },
    {
     "name": "stderr",
     "output_type": "stream",
     "text": [
      "Info: Params [-4.79241718  1.53625496  0.1         0.05500325] gave -70.40697549442594\n"
     ]
    },
    {
     "name": "stdout",
     "output_type": "stream",
     "text": [
      "fitting: sub 14, cond 2\n"
     ]
    },
    {
     "name": "stderr",
     "output_type": "stream",
     "text": [
      "Info: Params [-3.72579435  0.67329076  0.1         0.20470648] gave -28.186023934038246\n"
     ]
    },
    {
     "name": "stdout",
     "output_type": "stream",
     "text": [
      "condition skipped: less than 50% reject3\n",
      "fitting: sub 14, cond 4\n"
     ]
    },
    {
     "name": "stderr",
     "output_type": "stream",
     "text": [
      "Info: Params [-3.01124138  1.13748054  0.1         0.05858514] gave -23.368108374333783\n"
     ]
    },
    {
     "name": "stdout",
     "output_type": "stream",
     "text": [
      "fitting: sub 14, cond 5\n"
     ]
    },
    {
     "name": "stderr",
     "output_type": "stream",
     "text": [
      "Info: Params [-3.51400508  0.75490893  0.1         0.2038126 ] gave -62.29028654870345\n"
     ]
    },
    {
     "name": "stdout",
     "output_type": "stream",
     "text": [
      "condition skipped: less than 50% reject6\n",
      "condition skipped: less than 50% reject7\n",
      "fitting: sub 14, cond 8\n"
     ]
    },
    {
     "name": "stderr",
     "output_type": "stream",
     "text": [
      "Info: Params [-4.51933504e+00  1.97929424e+00  4.48420764e-01  7.87895845e-04] gave -53.9450351520133\n"
     ]
    },
    {
     "name": "stdout",
     "output_type": "stream",
     "text": [
      "condition skipped: less than 50% reject0\n",
      "fitting: sub 15, cond 1\n"
     ]
    },
    {
     "name": "stderr",
     "output_type": "stream",
     "text": [
      "Info: Params [-4.91987076  0.85381763  0.1         0.17979395] gave -131.03761669960898\n"
     ]
    },
    {
     "name": "stdout",
     "output_type": "stream",
     "text": [
      "fitting: sub 15, cond 2\n"
     ]
    },
    {
     "name": "stderr",
     "output_type": "stream",
     "text": [
      "Info: Params [-5.66191775  1.33144623  0.1         0.10145526] gave -122.08732591426724\n"
     ]
    },
    {
     "name": "stdout",
     "output_type": "stream",
     "text": [
      "condition skipped: less than 50% reject3\n",
      "fitting: sub 15, cond 4\n"
     ]
    },
    {
     "name": "stderr",
     "output_type": "stream",
     "text": [
      "Info: Params [-2.57346866  0.76518499  0.1         0.18868272] gave -27.035137006006146\n"
     ]
    },
    {
     "name": "stdout",
     "output_type": "stream",
     "text": [
      "fitting: sub 15, cond 5\n"
     ]
    },
    {
     "name": "stderr",
     "output_type": "stream",
     "text": [
      "Info: Params [-4.19992086  0.57159792  0.1         0.2400853 ] gave -130.39894645190384\n"
     ]
    },
    {
     "name": "stdout",
     "output_type": "stream",
     "text": [
      "condition skipped: less than 50% reject6\n",
      "condition skipped: less than 50% reject7\n",
      "fitting: sub 15, cond 8\n"
     ]
    },
    {
     "name": "stderr",
     "output_type": "stream",
     "text": [
      "Info: Params [-4.35284571e+00  1.82062323e+00  1.00000000e-01  5.48314877e-05] gave -60.632339928200935\n"
     ]
    },
    {
     "name": "stdout",
     "output_type": "stream",
     "text": [
      "(63, 6)\n"
     ]
    }
   ],
   "source": [
    "nparam = 4\n",
    "out = np.zeros((0, nparam + 2))\n",
    "\n",
    "for si in range(16):\n",
    "    for ci in range(9):\n",
    "        tid_s = df[\"session\"] == si + 1\n",
    "        tid_c = df[\"condition\"] == ci + 1\n",
    "        tdf = df[np.array(tid_s) & np.array(tid_c)]\n",
    "        tid = tdf['choice'] == 0\n",
    "        if (np.mean(tid) > 0.5):\n",
    "            print(f'fitting: sub {si}, cond {ci}')\n",
    "            tdf = tdf[tid]\n",
    "            sp = Sample.from_pandas_dataframe(tdf, rt_column_name=\"rt_reject\", correct_column_name=\"choice\")\n",
    "            model_wv = Model(name='WV',\n",
    "                            drift=DriftConstant(drift=Fittable(minval=-10, maxval=10)),\n",
    "                            # noise=NoiseConstant(noise=Fittable(minval=.1, maxval=5.0)),\n",
    "                            noise = NoiseConstant(noise = 1),\n",
    "                            bound=BoundCollapsingLinear(B=Fittable(minval=.1, maxval=5.0), t = Fittable(minval = .1, maxval = 1.0)),\n",
    "                            overlay=OverlayNonDecision(nondectime=Fittable(minval=0, maxval=.4)),\n",
    "                            dx=.001, dt=.001, T_dur=5)\n",
    "            # print(model_wv.has_analytical_solution())\n",
    "            fit_model_wv = fit_adjust_model(sample = sp, model = model_wv, verbose = False,\n",
    "                lossfunction= LossRobustLikelihood)\n",
    "            tresult = fit_model_wv.get_model_parameters()\n",
    "            tresult = np.hstack((np.array([si, ci]), np.array(tresult)))\n",
    "            out = np.vstack((out,tresult.reshape((1,nparam + 2))))\n",
    "        else:\n",
    "            print(f'condition skipped: less than 50% reject{ci}')\n",
    "\n",
    "print(out.shape)"
   ]
  },
  {
   "cell_type": "code",
   "execution_count": 10,
   "metadata": {},
   "outputs": [],
   "source": [
    "# save data\n",
    "outdf = pandas.DataFrame(out, columns = ['sessionID', 'condition', 'drift', 'bound', 'collapseslope','nonDT'])\n",
    "outdf.to_csv('./Temp/fit_ddm_v2_collapsingbound.csv', sep  =',')"
   ]
  }
 ],
 "metadata": {
  "kernelspec": {
   "display_name": "Python 3.9.7 ('base')",
   "language": "python",
   "name": "python3"
  },
  "language_info": {
   "codemirror_mode": {
    "name": "ipython",
    "version": 3
   },
   "file_extension": ".py",
   "mimetype": "text/x-python",
   "name": "python",
   "nbconvert_exporter": "python",
   "pygments_lexer": "ipython3",
   "version": "3.9.13"
  },
  "orig_nbformat": 4,
  "vscode": {
   "interpreter": {
    "hash": "98ba0ce262ab245ac167001ec0024dd2c1ecc1e28b4ebb3ed2162e72097f6c43"
   }
  }
 },
 "nbformat": 4,
 "nbformat_minor": 2
}
